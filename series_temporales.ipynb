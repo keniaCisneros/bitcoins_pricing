{
 "cells": [
  {
   "cell_type": "markdown",
   "metadata": {
    "id": "sjntdpGO9NyS"
   },
   "source": [
    "# Series temporales\n",
    "Esta libreta implementa un modelo de series de tiempo utilisando redes neurunares CNN y LSTM.\n",
    "\n",
    "Para obtener un modelo óptimo realizamos una búsqueda de hiperpárametros con GridSearch con ayuda de \"kerashypetune\", esta biblioteca evalua el modelo con cada convinacióón posible de hiperpárametros que tengamos y utiliza una funcióón de perdida para evaluarlo, sin embargo, esta funcióón de evaluacióón se puede cambiar.\n",
    "\n",
    "Aquíí utilizamos la función de pérdida, por lo que los scores más pequeños son los de nuestro interés.\n",
    "\n",
    "Las especificaciones de la biblioteca se encuentran en:\n",
    "https://github.com/cerlymarco/keras-hypetune"
   ]
  },
  {
   "cell_type": "code",
   "execution_count": 1,
   "metadata": {
    "colab": {
     "base_uri": "https://localhost:8080/"
    },
    "id": "5Qa9_y5MOplq",
    "outputId": "6f4ce570-a0d4-45d5-c423-2cc86bdc06de"
   },
   "outputs": [
    {
     "name": "stdout",
     "output_type": "stream",
     "text": [
      "2.4.0\n"
     ]
    }
   ],
   "source": [
    "import numpy as np\n",
    "import pandas as pd\n",
    "import matplotlib.pyplot as plt\n",
    "import tensorflow as tf\n",
    "from sklearn.preprocessing import MinMaxScaler\n",
    "from sklearn.preprocessing import StandardScaler\n",
    "from keras.models import load_model\n",
    "from numpy import concatenate\n",
    "from pandas import DataFrame\n",
    "from pandas import concat\n",
    "\n",
    "print(tf.__version__)"
   ]
  },
  {
   "cell_type": "markdown",
   "metadata": {},
   "source": [
    "Para poder utilizar la biblioteca de la búsqueda de hiperpárametros  es necesario instalarla"
   ]
  },
  {
   "cell_type": "code",
   "execution_count": 2,
   "metadata": {
    "colab": {
     "base_uri": "https://localhost:8080/"
    },
    "id": "8k0HRVEwOpmF",
    "outputId": "d2e00f27-d3f2-47f6-d5da-179a73daa459"
   },
   "outputs": [
    {
     "name": "stdout",
     "output_type": "stream",
     "text": [
      "Requirement already satisfied: keras-hypetune in /usr/local/lib/python3.6/dist-packages (0.1.1)\n",
      "Requirement already satisfied: numpy in /usr/local/lib/python3.6/dist-packages (from keras-hypetune) (1.19.5)\n"
     ]
    }
   ],
   "source": [
    "!pip install keras-hypetune"
   ]
  },
  {
   "cell_type": "code",
   "execution_count": 3,
   "metadata": {
    "id": "U5s7hGdxQHDo"
   },
   "outputs": [],
   "source": [
    "from kerashypetune import *"
   ]
  },
  {
   "cell_type": "markdown",
   "metadata": {},
   "source": [
    "## Funcion para obtener ventanas a partir del dataframe \n",
    "Un paso muy importante en la implementación del modelo es la preparación de datos, se convierte un problema de series de tiempo en un problema de aprendizaje supervisado y de esta manera nuestra red puede aprender las relaciones.\n",
    "\n",
    "La siguiente función realiza esa tarea y se ha tomado de la siguiente liga:\n",
    "\n",
    "https://machinelearningmastery.com/convert-time-series-supervised-learning-problem-python/"
   ]
  },
  {
   "cell_type": "code",
   "execution_count": 4,
   "metadata": {
    "id": "opEstA3IOpmH"
   },
   "outputs": [],
   "source": [
    "# convert series to supervised learning\n",
    "def series_to_supervised(data, n_in=1, n_out=1, dropnan=True):\n",
    "    \"\"\"\n",
    "    Convierte un conjunto de series de tiempo en un conjunto de aprendizaje supervisado\n",
    "\n",
    "    Params:\n",
    "        data: secuencia de observaciones\n",
    "        n_in: tamaño de la ventana, es decir, 2 implica que el siguiente valor\n",
    "            se calculara con los dos anteriores\n",
    "        n_out: número de variables a predecir\n",
    "        dropnan: indica si se eliminarán los valores nulos\n",
    "    Returns:\n",
    "    Conjunto de datos de un problema de aprendizaje supervisado\n",
    "    \"\"\"\n",
    "    n_vars = 1 if type(data) is list else data.shape[1]\n",
    "    df = DataFrame(data)\n",
    "    cols, names = list(), list()\n",
    "    # input sequence (t-n, ... t-1)\n",
    "    for i in range(n_in, 0, -1):\n",
    "        # shift\n",
    "        # se utiliza para desplazar el índice de DataFrame por un número \n",
    "        # determinado de períodos con una frecuencia de tiempo opcional\n",
    "        cols.append(df.shift(i))\n",
    "        names += [('var%d(t-%d)' % (j+1, i)) for j in range(n_vars)]\n",
    "    # forecast sequence (t, t+1, ... t+n)\n",
    "    for i in range(0, n_out):\n",
    "        cols.append(df.shift(-i))\n",
    "        if i == 0:\n",
    "            names += [('var%d(t)' % (j+1)) for j in range(n_vars)]\n",
    "        else:\n",
    "            names += [('var%d(t+%d)' % (j+1, i)) for j in range(n_vars)]\n",
    "    # put it all together\n",
    "    agg = concat(cols, axis=1)\n",
    "    agg.columns = names\n",
    "    # drop rows with NaN values\n",
    "    if dropnan:\n",
    "        agg.dropna(inplace=True)\n",
    "    return agg"
   ]
  },
  {
   "cell_type": "code",
   "execution_count": 5,
   "metadata": {
    "id": "rN2ELHPUOpmL"
   },
   "outputs": [],
   "source": [
    "def get_data(df, ventana):\n",
    "    '''\n",
    "    Transforma nuestros datos en un formato aceptable para la red separandolos en train y test\n",
    "\n",
    "    Params:\n",
    "      df: conjunto de datos \n",
    "      ventana: número de días con el que se predecirá el siguiente\n",
    "    '''\n",
    "    n_cols = df.shape[1] - 1 # Numero de variables incluyendo la variable objetivo\n",
    "    entrenamiento = 800 #Cuantos dias de entrenamiento (restante sera para el conjunto test)\n",
    "    n_obs = ventana*n_cols\n",
    "    \n",
    "    \n",
    "    values = df.iloc[1082:,1:].values# Desde el primer dia del 2018\n",
    "    transformer = StandardScaler()\n",
    "    transformer.fit(values)\n",
    "    # se escalan los datos para que la red trabaje mejor\n",
    "    transformer_y = StandardScaler()\n",
    "    transformer_y.fit(df.iloc[1082:,-1].values.reshape(-1,1))\n",
    "\n",
    "    values = transformer.transform(values)\n",
    "    # obtenemos un datos para un problema supervisado\n",
    "    data = series_to_supervised(values, ventana,1 )\n",
    "    \n",
    "    train = data.iloc[:entrenamiento,:]\n",
    "    test = data.iloc[entrenamiento:,:]\n",
    "\n",
    "    train_X, train_y = train.iloc[:, :n_obs].values, train.iloc[:, -1].values\n",
    "    test_X, test_y = test.iloc[:, :n_obs].values, test.iloc[:, -1].values\n",
    "    \n",
    "    # modificamos las dimensiones del train y test para que tengan un formato\n",
    "    # (muestras, ventana, numero de variables)\n",
    "    train_X = train_X.reshape((train_X.shape[0], ventana, n_cols))\n",
    "    test_X = test_X.reshape((test_X.shape[0], ventana, n_cols))\n",
    "    return train_X, train_y, test_X, test_y"
   ]
  },
  {
   "cell_type": "markdown",
   "metadata": {},
   "source": [
    "## Creacion del modelo\n",
    "Ya que tenemos nuestros datos preparados procedemos a la creación del modelo, la siguiente función solamente crea el modelo y lo compila, solamente toma como parametro un diccionario que regula la cantidad de capas, la pérdida de memoria, la tasa de aprendizaje."
   ]
  },
  {
   "cell_type": "code",
   "execution_count": 6,
   "metadata": {
    "id": "uEwipRdROpmO"
   },
   "outputs": [],
   "source": [
    "def get_model(params):\n",
    "    '''\n",
    "    params: diccionario con los parámetros a intentar\n",
    "        {'dropout':probabilidad para la perdida de memoria, \n",
    "        'lambda':multiplicador para la función lambda, \n",
    "        'lr':número de capas para LSTM,\n",
    "        'conv':número de capas para CNN,\n",
    "        'epochs':número de epocas, \n",
    "        'learning_rate': tasa de aprendizaje}\n",
    "    '''\n",
    "    tf.keras.backend.clear_session()\n",
    "\n",
    "    model = tf.keras.models.Sequential([\n",
    "                       tf.keras.layers.Conv1D(filters=params['conv'], kernel_size=5,\n",
    "                       strides=1, padding=\"causal\",\n",
    "                       activation=\"relu\",\n",
    "                       input_shape=[train_X.shape[1],train_X.shape[2]]),\n",
    "                       tf.keras.layers.Bidirectional(tf.keras.layers.LSTM(params['lr'], return_sequences=True)),\n",
    "                    tf.keras.layers.Bidirectional(tf.keras.layers.LSTM(params['lr'])),\n",
    "                    tf.keras.layers.Dense(50,activation=\"relu\"),\n",
    "                    tf.keras.layers.Dropout(params['dropout']),\n",
    "                    tf.keras.layers.Dense(1),\n",
    "                    tf.keras.layers.Lambda(lambda x: x * params['lambda'])])\n",
    "\n",
    "    model.compile(loss=tf.keras.losses.Huber(), optimizer=tf.keras.optimizers.Adam(learning_rate=params['learning_rate']),metrics=[\"mae\"])\n",
    "    return model"
   ]
  },
  {
   "cell_type": "markdown",
   "metadata": {},
   "source": [
    "Tomamos los datos limpios generados en la libreta \"data_analysis\", y borramos las columnas de las variables que se descartarán por su falta de correlación con el precio del bitcoin, posteriormente generamos los conjuntos de estrenamiento y test, debido a que nuestros datos dependen fuertemente del tiempo, los datos se dividen de manera continua en la función $\\textit{get_data}$"
   ]
  },
  {
   "cell_type": "code",
   "execution_count": 7,
   "metadata": {
    "colab": {
     "base_uri": "https://localhost:8080/"
    },
    "id": "5BcZlUVMOpmP",
    "outputId": "40ff19c9-d234-4470-f7a7-c8758b4e97eb"
   },
   "outputs": [
    {
     "data": {
      "text/plain": [
       "Index(['date', 'dow(USD)', 'euro_stoxx50(USD)', 'nasdaq(USD)', 'nikkei(USD)',\n",
       "       'oro(USD)', 'petroleo(USD)', 'shangai_stock_exchange(USD)',\n",
       "       'sp_500(USD)', 'BCHAIN-TOTBC', 'BCHAIN-AVBLS', 'BCHAIN-MIREV (USD)',\n",
       "       'BCHAIN-HRATE', 'BCHAIN-NTRBL', 'BCHAIN-NADDU', 'eur_usd', 'cny_usd',\n",
       "       'gbp_usd', 'BCHAIN-MKPRU (USD)'],\n",
       "      dtype='object')"
      ]
     },
     "execution_count": 7,
     "metadata": {
      "tags": []
     },
     "output_type": "execute_result"
    }
   ],
   "source": [
    "df = pd.read_csv(\"data_complete.csv\")\n",
    "df.columns"
   ]
  },
  {
   "cell_type": "code",
   "execution_count": 8,
   "metadata": {
    "id": "oFfuBvuLc5GG"
   },
   "outputs": [],
   "source": [
    "df.drop(['shangai_stock_exchange(USD)','petroleo(USD)','euro_stoxx50(USD)','dow(USD)'], axis=1, inplace = True)"
   ]
  },
  {
   "cell_type": "code",
   "execution_count": 9,
   "metadata": {
    "id": "CASnwp-NcsOS"
   },
   "outputs": [],
   "source": [
    "train_X, train_y, test_X, test_y = get_data(df, 3)"
   ]
  },
  {
   "cell_type": "markdown",
   "metadata": {},
   "source": [
    "A continuación realizamos una búsqueda de hiperpárametros con GridSearch para nuestra red neuronal de keras, que utiliza todas las convinaciones posibles de nuestro diccionario y evalua la pérdida en el conjunto de entrenamiento, por lo que nos imprime la pérdida obtenida y la epoca en la que sucedío, de esta manera sabremos si es posible considerar menos epocas y obtendremos el mejor modelo."
   ]
  },
  {
   "cell_type": "code",
   "execution_count": 10,
   "metadata": {
    "colab": {
     "base_uri": "https://localhost:8080/"
    },
    "id": "E5Z-Tu8TY3tL",
    "outputId": "da09d874-64a6-4528-832c-d421bc5e86e6"
   },
   "outputs": [
    {
     "name": "stdout",
     "output_type": "stream",
     "text": [
      "\n",
      "162 trials detected for ('dropout', 'lambda', 'lr', 'conv', 'epochs', 'learning_rate')\n",
      "\n",
      "***** (1/162) *****\n",
      "Search({'dropout': 0.2, 'lambda': 10.0, 'lr': 40, 'conv': 40, 'epochs': 1000, 'learning_rate': 1e-05})\n",
      "SCORE: 0.42139 at epoch 971\n",
      "\n",
      "***** (2/162) *****\n",
      "Search({'dropout': 0.2, 'lambda': 10.0, 'lr': 40, 'conv': 40, 'epochs': 1000, 'learning_rate': 0.0001})\n",
      "SCORE: 0.28307 at epoch 993\n",
      "\n",
      "***** (3/162) *****\n",
      "Search({'dropout': 0.2, 'lambda': 10.0, 'lr': 40, 'conv': 40, 'epochs': 1000, 'learning_rate': 1e-06})\n",
      "SCORE: 0.51409 at epoch 843\n",
      "\n",
      "***** (4/162) *****\n",
      "Search({'dropout': 0.2, 'lambda': 10.0, 'lr': 40, 'conv': 20, 'epochs': 1000, 'learning_rate': 1e-05})\n",
      "SCORE: 0.43594 at epoch 850\n",
      "\n",
      "***** (5/162) *****\n",
      "Search({'dropout': 0.2, 'lambda': 10.0, 'lr': 40, 'conv': 20, 'epochs': 1000, 'learning_rate': 0.0001})\n",
      "SCORE: 0.32665 at epoch 906\n",
      "\n",
      "***** (6/162) *****\n",
      "Search({'dropout': 0.2, 'lambda': 10.0, 'lr': 40, 'conv': 20, 'epochs': 1000, 'learning_rate': 1e-06})\n",
      "SCORE: 0.32098 at epoch 996\n",
      "\n",
      "***** (7/162) *****\n",
      "Search({'dropout': 0.2, 'lambda': 10.0, 'lr': 40, 'conv': 30, 'epochs': 1000, 'learning_rate': 1e-05})\n",
      "SCORE: 0.37038 at epoch 860\n",
      "\n",
      "***** (8/162) *****\n",
      "Search({'dropout': 0.2, 'lambda': 10.0, 'lr': 40, 'conv': 30, 'epochs': 1000, 'learning_rate': 0.0001})\n",
      "SCORE: 0.22096 at epoch 275\n",
      "\n",
      "***** (9/162) *****\n",
      "Search({'dropout': 0.2, 'lambda': 10.0, 'lr': 40, 'conv': 30, 'epochs': 1000, 'learning_rate': 1e-06})\n",
      "SCORE: 0.547 at epoch 574\n",
      "\n",
      "***** (10/162) *****\n",
      "Search({'dropout': 0.2, 'lambda': 10.0, 'lr': 20, 'conv': 40, 'epochs': 1000, 'learning_rate': 1e-05})\n",
      "SCORE: 0.27023 at epoch 992\n",
      "\n",
      "***** (11/162) *****\n",
      "Search({'dropout': 0.2, 'lambda': 10.0, 'lr': 20, 'conv': 40, 'epochs': 1000, 'learning_rate': 0.0001})\n",
      "SCORE: 0.16789 at epoch 582\n",
      "\n",
      "***** (12/162) *****\n",
      "Search({'dropout': 0.2, 'lambda': 10.0, 'lr': 20, 'conv': 40, 'epochs': 1000, 'learning_rate': 1e-06})\n",
      "SCORE: 0.6204 at epoch 999\n",
      "\n",
      "***** (13/162) *****\n",
      "Search({'dropout': 0.2, 'lambda': 10.0, 'lr': 20, 'conv': 20, 'epochs': 1000, 'learning_rate': 1e-05})\n",
      "SCORE: 0.44196 at epoch 164\n",
      "\n",
      "***** (14/162) *****\n",
      "Search({'dropout': 0.2, 'lambda': 10.0, 'lr': 20, 'conv': 20, 'epochs': 1000, 'learning_rate': 0.0001})\n",
      "SCORE: 0.25606 at epoch 294\n",
      "\n",
      "***** (15/162) *****\n",
      "Search({'dropout': 0.2, 'lambda': 10.0, 'lr': 20, 'conv': 20, 'epochs': 1000, 'learning_rate': 1e-06})\n",
      "SCORE: 0.3855 at epoch 588\n",
      "\n",
      "***** (16/162) *****\n",
      "Search({'dropout': 0.2, 'lambda': 10.0, 'lr': 20, 'conv': 30, 'epochs': 1000, 'learning_rate': 1e-05})\n",
      "SCORE: 0.32791 at epoch 969\n",
      "\n",
      "***** (17/162) *****\n",
      "Search({'dropout': 0.2, 'lambda': 10.0, 'lr': 20, 'conv': 30, 'epochs': 1000, 'learning_rate': 0.0001})\n",
      "SCORE: 0.20009 at epoch 973\n",
      "\n",
      "***** (18/162) *****\n",
      "Search({'dropout': 0.2, 'lambda': 10.0, 'lr': 20, 'conv': 30, 'epochs': 1000, 'learning_rate': 1e-06})\n",
      "SCORE: 0.52742 at epoch 990\n",
      "\n",
      "***** (19/162) *****\n",
      "Search({'dropout': 0.2, 'lambda': 10.0, 'lr': 30, 'conv': 40, 'epochs': 1000, 'learning_rate': 1e-05})\n",
      "SCORE: 0.28215 at epoch 553\n",
      "\n",
      "***** (20/162) *****\n",
      "Search({'dropout': 0.2, 'lambda': 10.0, 'lr': 30, 'conv': 40, 'epochs': 1000, 'learning_rate': 0.0001})\n",
      "SCORE: 0.18208 at epoch 958\n",
      "\n",
      "***** (21/162) *****\n",
      "Search({'dropout': 0.2, 'lambda': 10.0, 'lr': 30, 'conv': 40, 'epochs': 1000, 'learning_rate': 1e-06})\n",
      "SCORE: 0.40057 at epoch 995\n",
      "\n",
      "***** (22/162) *****\n",
      "Search({'dropout': 0.2, 'lambda': 10.0, 'lr': 30, 'conv': 20, 'epochs': 1000, 'learning_rate': 1e-05})\n",
      "SCORE: 0.33594 at epoch 958\n",
      "\n",
      "***** (23/162) *****\n",
      "Search({'dropout': 0.2, 'lambda': 10.0, 'lr': 30, 'conv': 20, 'epochs': 1000, 'learning_rate': 0.0001})\n",
      "SCORE: 0.28432 at epoch 614\n",
      "\n",
      "***** (24/162) *****\n",
      "Search({'dropout': 0.2, 'lambda': 10.0, 'lr': 30, 'conv': 20, 'epochs': 1000, 'learning_rate': 1e-06})\n",
      "SCORE: 0.49835 at epoch 997\n",
      "\n",
      "***** (25/162) *****\n",
      "Search({'dropout': 0.2, 'lambda': 10.0, 'lr': 30, 'conv': 30, 'epochs': 1000, 'learning_rate': 1e-05})\n",
      "SCORE: 0.4955 at epoch 881\n",
      "\n",
      "***** (26/162) *****\n",
      "Search({'dropout': 0.2, 'lambda': 10.0, 'lr': 30, 'conv': 30, 'epochs': 1000, 'learning_rate': 0.0001})\n",
      "SCORE: 0.08589 at epoch 871\n",
      "\n",
      "***** (27/162) *****\n",
      "Search({'dropout': 0.2, 'lambda': 10.0, 'lr': 30, 'conv': 30, 'epochs': 1000, 'learning_rate': 1e-06})\n",
      "SCORE: 0.30601 at epoch 959\n",
      "\n",
      "***** (28/162) *****\n",
      "Search({'dropout': 0.2, 'lambda': 5.0, 'lr': 40, 'conv': 40, 'epochs': 1000, 'learning_rate': 1e-05})\n",
      "SCORE: 0.39209 at epoch 995\n",
      "\n",
      "***** (29/162) *****\n",
      "Search({'dropout': 0.2, 'lambda': 5.0, 'lr': 40, 'conv': 40, 'epochs': 1000, 'learning_rate': 0.0001})\n",
      "SCORE: 0.24735 at epoch 971\n",
      "\n",
      "***** (30/162) *****\n",
      "Search({'dropout': 0.2, 'lambda': 5.0, 'lr': 40, 'conv': 40, 'epochs': 1000, 'learning_rate': 1e-06})\n",
      "SCORE: 0.49551 at epoch 984\n",
      "\n",
      "***** (31/162) *****\n",
      "Search({'dropout': 0.2, 'lambda': 5.0, 'lr': 40, 'conv': 20, 'epochs': 1000, 'learning_rate': 1e-05})\n",
      "SCORE: 0.50815 at epoch 989\n",
      "\n",
      "***** (32/162) *****\n",
      "Search({'dropout': 0.2, 'lambda': 5.0, 'lr': 40, 'conv': 20, 'epochs': 1000, 'learning_rate': 0.0001})\n",
      "SCORE: 0.41041 at epoch 775\n",
      "\n",
      "***** (33/162) *****\n",
      "Search({'dropout': 0.2, 'lambda': 5.0, 'lr': 40, 'conv': 20, 'epochs': 1000, 'learning_rate': 1e-06})\n",
      "SCORE: 0.44093 at epoch 1000\n",
      "\n",
      "***** (34/162) *****\n",
      "Search({'dropout': 0.2, 'lambda': 5.0, 'lr': 40, 'conv': 30, 'epochs': 1000, 'learning_rate': 1e-05})\n",
      "SCORE: 0.45043 at epoch 959\n",
      "\n",
      "***** (35/162) *****\n",
      "Search({'dropout': 0.2, 'lambda': 5.0, 'lr': 40, 'conv': 30, 'epochs': 1000, 'learning_rate': 0.0001})\n",
      "SCORE: 0.26373 at epoch 140\n",
      "\n",
      "***** (36/162) *****\n",
      "Search({'dropout': 0.2, 'lambda': 5.0, 'lr': 40, 'conv': 30, 'epochs': 1000, 'learning_rate': 1e-06})\n",
      "SCORE: 0.46571 at epoch 461\n",
      "\n",
      "***** (37/162) *****\n",
      "Search({'dropout': 0.2, 'lambda': 5.0, 'lr': 20, 'conv': 40, 'epochs': 1000, 'learning_rate': 1e-05})\n",
      "SCORE: 0.39795 at epoch 979\n",
      "\n",
      "***** (38/162) *****\n",
      "Search({'dropout': 0.2, 'lambda': 5.0, 'lr': 20, 'conv': 40, 'epochs': 1000, 'learning_rate': 0.0001})\n",
      "SCORE: 0.26732 at epoch 394\n",
      "\n",
      "***** (39/162) *****\n",
      "Search({'dropout': 0.2, 'lambda': 5.0, 'lr': 20, 'conv': 40, 'epochs': 1000, 'learning_rate': 1e-06})\n",
      "SCORE: 0.39181 at epoch 1000\n",
      "\n",
      "***** (40/162) *****\n",
      "Search({'dropout': 0.2, 'lambda': 5.0, 'lr': 20, 'conv': 20, 'epochs': 1000, 'learning_rate': 1e-05})\n",
      "SCORE: 0.42147 at epoch 979\n",
      "\n",
      "***** (41/162) *****\n",
      "Search({'dropout': 0.2, 'lambda': 5.0, 'lr': 20, 'conv': 20, 'epochs': 1000, 'learning_rate': 0.0001})\n",
      "SCORE: 0.44157 at epoch 433\n",
      "\n",
      "***** (42/162) *****\n",
      "Search({'dropout': 0.2, 'lambda': 5.0, 'lr': 20, 'conv': 20, 'epochs': 1000, 'learning_rate': 1e-06})\n",
      "SCORE: 0.50885 at epoch 621\n",
      "\n",
      "***** (43/162) *****\n",
      "Search({'dropout': 0.2, 'lambda': 5.0, 'lr': 20, 'conv': 30, 'epochs': 1000, 'learning_rate': 1e-05})\n",
      "SCORE: 0.34688 at epoch 991\n",
      "\n",
      "***** (44/162) *****\n",
      "Search({'dropout': 0.2, 'lambda': 5.0, 'lr': 20, 'conv': 30, 'epochs': 1000, 'learning_rate': 0.0001})\n",
      "SCORE: 0.13143 at epoch 992\n",
      "\n",
      "***** (45/162) *****\n",
      "Search({'dropout': 0.2, 'lambda': 5.0, 'lr': 20, 'conv': 30, 'epochs': 1000, 'learning_rate': 1e-06})\n",
      "SCORE: 0.56621 at epoch 999\n",
      "\n",
      "***** (46/162) *****\n",
      "Search({'dropout': 0.2, 'lambda': 5.0, 'lr': 30, 'conv': 40, 'epochs': 1000, 'learning_rate': 1e-05})\n",
      "SCORE: 0.27541 at epoch 953\n",
      "\n",
      "***** (47/162) *****\n",
      "Search({'dropout': 0.2, 'lambda': 5.0, 'lr': 30, 'conv': 40, 'epochs': 1000, 'learning_rate': 0.0001})\n",
      "SCORE: 0.42873 at epoch 212\n",
      "\n",
      "***** (48/162) *****\n",
      "Search({'dropout': 0.2, 'lambda': 5.0, 'lr': 30, 'conv': 40, 'epochs': 1000, 'learning_rate': 1e-06})\n",
      "SCORE: 0.37271 at epoch 994\n",
      "\n",
      "***** (49/162) *****\n",
      "Search({'dropout': 0.2, 'lambda': 5.0, 'lr': 30, 'conv': 20, 'epochs': 1000, 'learning_rate': 1e-05})\n",
      "SCORE: 0.25409 at epoch 974\n",
      "\n",
      "***** (50/162) *****\n",
      "Search({'dropout': 0.2, 'lambda': 5.0, 'lr': 30, 'conv': 20, 'epochs': 1000, 'learning_rate': 0.0001})\n",
      "SCORE: 0.29764 at epoch 347\n",
      "\n",
      "***** (51/162) *****\n",
      "Search({'dropout': 0.2, 'lambda': 5.0, 'lr': 30, 'conv': 20, 'epochs': 1000, 'learning_rate': 1e-06})\n",
      "SCORE: 0.47849 at epoch 564\n",
      "\n",
      "***** (52/162) *****\n",
      "Search({'dropout': 0.2, 'lambda': 5.0, 'lr': 30, 'conv': 30, 'epochs': 1000, 'learning_rate': 1e-05})\n",
      "SCORE: 0.37389 at epoch 996\n",
      "\n",
      "***** (53/162) *****\n",
      "Search({'dropout': 0.2, 'lambda': 5.0, 'lr': 30, 'conv': 30, 'epochs': 1000, 'learning_rate': 0.0001})\n",
      "SCORE: 0.29032 at epoch 786\n",
      "\n",
      "***** (54/162) *****\n",
      "Search({'dropout': 0.2, 'lambda': 5.0, 'lr': 30, 'conv': 30, 'epochs': 1000, 'learning_rate': 1e-06})\n",
      "SCORE: 0.42737 at epoch 483\n",
      "\n",
      "***** (55/162) *****\n",
      "Search({'dropout': 0.2, 'lambda': 15.0, 'lr': 40, 'conv': 40, 'epochs': 1000, 'learning_rate': 1e-05})\n",
      "SCORE: 0.31269 at epoch 990\n",
      "\n",
      "***** (56/162) *****\n",
      "Search({'dropout': 0.2, 'lambda': 15.0, 'lr': 40, 'conv': 40, 'epochs': 1000, 'learning_rate': 0.0001})\n",
      "SCORE: 0.2024 at epoch 619\n",
      "\n",
      "***** (57/162) *****\n",
      "Search({'dropout': 0.2, 'lambda': 15.0, 'lr': 40, 'conv': 40, 'epochs': 1000, 'learning_rate': 1e-06})\n",
      "SCORE: 0.37472 at epoch 993\n",
      "\n",
      "***** (58/162) *****\n",
      "Search({'dropout': 0.2, 'lambda': 15.0, 'lr': 40, 'conv': 20, 'epochs': 1000, 'learning_rate': 1e-05})\n",
      "SCORE: 0.49578 at epoch 271\n",
      "\n",
      "***** (59/162) *****\n",
      "Search({'dropout': 0.2, 'lambda': 15.0, 'lr': 40, 'conv': 20, 'epochs': 1000, 'learning_rate': 0.0001})\n",
      "SCORE: 0.22298 at epoch 701\n",
      "\n",
      "***** (60/162) *****\n",
      "Search({'dropout': 0.2, 'lambda': 15.0, 'lr': 40, 'conv': 20, 'epochs': 1000, 'learning_rate': 1e-06})\n",
      "SCORE: 0.36682 at epoch 989\n",
      "\n",
      "***** (61/162) *****\n",
      "Search({'dropout': 0.2, 'lambda': 15.0, 'lr': 40, 'conv': 30, 'epochs': 1000, 'learning_rate': 1e-05})\n",
      "SCORE: 0.3499 at epoch 985\n",
      "\n",
      "***** (62/162) *****\n",
      "Search({'dropout': 0.2, 'lambda': 15.0, 'lr': 40, 'conv': 30, 'epochs': 1000, 'learning_rate': 0.0001})\n",
      "SCORE: 0.22948 at epoch 927\n",
      "\n",
      "***** (63/162) *****\n",
      "Search({'dropout': 0.2, 'lambda': 15.0, 'lr': 40, 'conv': 30, 'epochs': 1000, 'learning_rate': 1e-06})\n",
      "SCORE: 0.3975 at epoch 469\n",
      "\n",
      "***** (64/162) *****\n",
      "Search({'dropout': 0.2, 'lambda': 15.0, 'lr': 20, 'conv': 40, 'epochs': 1000, 'learning_rate': 1e-05})\n",
      "SCORE: 0.57475 at epoch 156\n",
      "\n",
      "***** (65/162) *****\n",
      "Search({'dropout': 0.2, 'lambda': 15.0, 'lr': 20, 'conv': 40, 'epochs': 1000, 'learning_rate': 0.0001})\n",
      "SCORE: 0.15164 at epoch 663\n",
      "\n",
      "***** (66/162) *****\n",
      "Search({'dropout': 0.2, 'lambda': 15.0, 'lr': 20, 'conv': 40, 'epochs': 1000, 'learning_rate': 1e-06})\n",
      "SCORE: 0.44989 at epoch 6\n",
      "\n",
      "***** (67/162) *****\n",
      "Search({'dropout': 0.2, 'lambda': 15.0, 'lr': 20, 'conv': 20, 'epochs': 1000, 'learning_rate': 1e-05})\n",
      "SCORE: 0.35993 at epoch 460\n",
      "\n",
      "***** (68/162) *****\n",
      "Search({'dropout': 0.2, 'lambda': 15.0, 'lr': 20, 'conv': 20, 'epochs': 1000, 'learning_rate': 0.0001})\n",
      "SCORE: 0.4288 at epoch 194\n",
      "\n",
      "***** (69/162) *****\n",
      "Search({'dropout': 0.2, 'lambda': 15.0, 'lr': 20, 'conv': 20, 'epochs': 1000, 'learning_rate': 1e-06})\n",
      "SCORE: 0.44 at epoch 300\n",
      "\n",
      "***** (70/162) *****\n",
      "Search({'dropout': 0.2, 'lambda': 15.0, 'lr': 20, 'conv': 30, 'epochs': 1000, 'learning_rate': 1e-05})\n",
      "SCORE: 0.35059 at epoch 973\n",
      "\n",
      "***** (71/162) *****\n",
      "Search({'dropout': 0.2, 'lambda': 15.0, 'lr': 20, 'conv': 30, 'epochs': 1000, 'learning_rate': 0.0001})\n",
      "SCORE: 0.32205 at epoch 714\n",
      "\n",
      "***** (72/162) *****\n",
      "Search({'dropout': 0.2, 'lambda': 15.0, 'lr': 20, 'conv': 30, 'epochs': 1000, 'learning_rate': 1e-06})\n",
      "SCORE: 0.57143 at epoch 993\n",
      "\n",
      "***** (73/162) *****\n",
      "Search({'dropout': 0.2, 'lambda': 15.0, 'lr': 30, 'conv': 40, 'epochs': 1000, 'learning_rate': 1e-05})\n",
      "SCORE: 0.58642 at epoch 995\n",
      "\n",
      "***** (74/162) *****\n",
      "Search({'dropout': 0.2, 'lambda': 15.0, 'lr': 30, 'conv': 40, 'epochs': 1000, 'learning_rate': 0.0001})\n",
      "SCORE: 0.26706 at epoch 445\n",
      "\n",
      "***** (75/162) *****\n",
      "Search({'dropout': 0.2, 'lambda': 15.0, 'lr': 30, 'conv': 40, 'epochs': 1000, 'learning_rate': 1e-06})\n",
      "SCORE: 0.55964 at epoch 1000\n",
      "\n",
      "***** (76/162) *****\n",
      "Search({'dropout': 0.2, 'lambda': 15.0, 'lr': 30, 'conv': 20, 'epochs': 1000, 'learning_rate': 1e-05})\n",
      "SCORE: 0.28831 at epoch 959\n",
      "\n",
      "***** (77/162) *****\n",
      "Search({'dropout': 0.2, 'lambda': 15.0, 'lr': 30, 'conv': 20, 'epochs': 1000, 'learning_rate': 0.0001})\n",
      "SCORE: 0.17035 at epoch 639\n",
      "\n",
      "***** (78/162) *****\n",
      "Search({'dropout': 0.2, 'lambda': 15.0, 'lr': 30, 'conv': 20, 'epochs': 1000, 'learning_rate': 1e-06})\n",
      "SCORE: 0.30173 at epoch 482\n",
      "\n",
      "***** (79/162) *****\n",
      "Search({'dropout': 0.2, 'lambda': 15.0, 'lr': 30, 'conv': 30, 'epochs': 1000, 'learning_rate': 1e-05})\n",
      "SCORE: 0.41318 at epoch 976\n",
      "\n",
      "***** (80/162) *****\n",
      "Search({'dropout': 0.2, 'lambda': 15.0, 'lr': 30, 'conv': 30, 'epochs': 1000, 'learning_rate': 0.0001})\n",
      "SCORE: 0.40613 at epoch 3\n",
      "\n",
      "***** (81/162) *****\n",
      "Search({'dropout': 0.2, 'lambda': 15.0, 'lr': 30, 'conv': 30, 'epochs': 1000, 'learning_rate': 1e-06})\n",
      "SCORE: 0.30624 at epoch 999\n",
      "\n",
      "***** (82/162) *****\n",
      "Search({'dropout': 0.15, 'lambda': 10.0, 'lr': 40, 'conv': 40, 'epochs': 1000, 'learning_rate': 1e-05})\n",
      "SCORE: 0.23401 at epoch 1000\n",
      "\n",
      "***** (83/162) *****\n",
      "Search({'dropout': 0.15, 'lambda': 10.0, 'lr': 40, 'conv': 40, 'epochs': 1000, 'learning_rate': 0.0001})\n",
      "SCORE: 0.21744 at epoch 905\n",
      "\n",
      "***** (84/162) *****\n",
      "Search({'dropout': 0.15, 'lambda': 10.0, 'lr': 40, 'conv': 40, 'epochs': 1000, 'learning_rate': 1e-06})\n",
      "SCORE: 0.45166 at epoch 999\n",
      "\n",
      "***** (85/162) *****\n",
      "Search({'dropout': 0.15, 'lambda': 10.0, 'lr': 40, 'conv': 20, 'epochs': 1000, 'learning_rate': 1e-05})\n",
      "SCORE: 0.43293 at epoch 963\n",
      "\n",
      "***** (86/162) *****\n",
      "Search({'dropout': 0.15, 'lambda': 10.0, 'lr': 40, 'conv': 20, 'epochs': 1000, 'learning_rate': 0.0001})\n",
      "SCORE: 0.30658 at epoch 347\n",
      "\n",
      "***** (87/162) *****\n",
      "Search({'dropout': 0.15, 'lambda': 10.0, 'lr': 40, 'conv': 20, 'epochs': 1000, 'learning_rate': 1e-06})\n",
      "SCORE: 0.36739 at epoch 998\n",
      "\n",
      "***** (88/162) *****\n",
      "Search({'dropout': 0.15, 'lambda': 10.0, 'lr': 40, 'conv': 30, 'epochs': 1000, 'learning_rate': 1e-05})\n",
      "SCORE: 0.33971 at epoch 980\n",
      "\n",
      "***** (89/162) *****\n",
      "Search({'dropout': 0.15, 'lambda': 10.0, 'lr': 40, 'conv': 30, 'epochs': 1000, 'learning_rate': 0.0001})\n",
      "SCORE: 0.16596 at epoch 458\n",
      "\n",
      "***** (90/162) *****\n",
      "Search({'dropout': 0.15, 'lambda': 10.0, 'lr': 40, 'conv': 30, 'epochs': 1000, 'learning_rate': 1e-06})\n",
      "SCORE: 0.43886 at epoch 991\n",
      "\n",
      "***** (91/162) *****\n",
      "Search({'dropout': 0.15, 'lambda': 10.0, 'lr': 20, 'conv': 40, 'epochs': 1000, 'learning_rate': 1e-05})\n",
      "SCORE: 0.44599 at epoch 22\n",
      "\n",
      "***** (92/162) *****\n",
      "Search({'dropout': 0.15, 'lambda': 10.0, 'lr': 20, 'conv': 40, 'epochs': 1000, 'learning_rate': 0.0001})\n",
      "SCORE: 0.21095 at epoch 929\n",
      "\n",
      "***** (93/162) *****\n",
      "Search({'dropout': 0.15, 'lambda': 10.0, 'lr': 20, 'conv': 40, 'epochs': 1000, 'learning_rate': 1e-06})\n",
      "SCORE: 0.51416 at epoch 1\n",
      "\n",
      "***** (94/162) *****\n",
      "Search({'dropout': 0.15, 'lambda': 10.0, 'lr': 20, 'conv': 20, 'epochs': 1000, 'learning_rate': 1e-05})\n",
      "SCORE: 0.32691 at epoch 966\n",
      "\n",
      "***** (95/162) *****\n",
      "Search({'dropout': 0.15, 'lambda': 10.0, 'lr': 20, 'conv': 20, 'epochs': 1000, 'learning_rate': 0.0001})\n",
      "SCORE: 0.21331 at epoch 930\n",
      "\n",
      "***** (96/162) *****\n",
      "Search({'dropout': 0.15, 'lambda': 10.0, 'lr': 20, 'conv': 20, 'epochs': 1000, 'learning_rate': 1e-06})\n",
      "SCORE: 0.47578 at epoch 407\n",
      "\n",
      "***** (97/162) *****\n",
      "Search({'dropout': 0.15, 'lambda': 10.0, 'lr': 20, 'conv': 30, 'epochs': 1000, 'learning_rate': 1e-05})\n",
      "SCORE: 0.43547 at epoch 982\n",
      "\n",
      "***** (98/162) *****\n",
      "Search({'dropout': 0.15, 'lambda': 10.0, 'lr': 20, 'conv': 30, 'epochs': 1000, 'learning_rate': 0.0001})\n",
      "SCORE: 0.37832 at epoch 92\n",
      "\n",
      "***** (99/162) *****\n",
      "Search({'dropout': 0.15, 'lambda': 10.0, 'lr': 20, 'conv': 30, 'epochs': 1000, 'learning_rate': 1e-06})\n",
      "SCORE: 0.47713 at epoch 1\n",
      "\n",
      "***** (100/162) *****\n",
      "Search({'dropout': 0.15, 'lambda': 10.0, 'lr': 30, 'conv': 40, 'epochs': 1000, 'learning_rate': 1e-05})\n",
      "SCORE: 0.33421 at epoch 393\n",
      "\n",
      "***** (101/162) *****\n",
      "Search({'dropout': 0.15, 'lambda': 10.0, 'lr': 30, 'conv': 40, 'epochs': 1000, 'learning_rate': 0.0001})\n",
      "SCORE: 0.15861 at epoch 977\n",
      "\n",
      "***** (102/162) *****\n",
      "Search({'dropout': 0.15, 'lambda': 10.0, 'lr': 30, 'conv': 40, 'epochs': 1000, 'learning_rate': 1e-06})\n",
      "SCORE: 0.4752 at epoch 356\n",
      "\n",
      "***** (103/162) *****\n",
      "Search({'dropout': 0.15, 'lambda': 10.0, 'lr': 30, 'conv': 20, 'epochs': 1000, 'learning_rate': 1e-05})\n",
      "SCORE: 0.30076 at epoch 977\n",
      "\n",
      "***** (104/162) *****\n",
      "Search({'dropout': 0.15, 'lambda': 10.0, 'lr': 30, 'conv': 20, 'epochs': 1000, 'learning_rate': 0.0001})\n",
      "SCORE: 0.34181 at epoch 997\n",
      "\n",
      "***** (105/162) *****\n",
      "Search({'dropout': 0.15, 'lambda': 10.0, 'lr': 30, 'conv': 20, 'epochs': 1000, 'learning_rate': 1e-06})\n",
      "SCORE: 0.54393 at epoch 1000\n",
      "\n",
      "***** (106/162) *****\n",
      "Search({'dropout': 0.15, 'lambda': 10.0, 'lr': 30, 'conv': 30, 'epochs': 1000, 'learning_rate': 1e-05})\n",
      "SCORE: 0.41102 at epoch 927\n",
      "\n",
      "***** (107/162) *****\n",
      "Search({'dropout': 0.15, 'lambda': 10.0, 'lr': 30, 'conv': 30, 'epochs': 1000, 'learning_rate': 0.0001})\n",
      "SCORE: 0.41084 at epoch 257\n",
      "\n",
      "***** (108/162) *****\n",
      "Search({'dropout': 0.15, 'lambda': 10.0, 'lr': 30, 'conv': 30, 'epochs': 1000, 'learning_rate': 1e-06})\n",
      "SCORE: 0.40491 at epoch 1000\n",
      "\n",
      "***** (109/162) *****\n",
      "Search({'dropout': 0.15, 'lambda': 5.0, 'lr': 40, 'conv': 40, 'epochs': 1000, 'learning_rate': 1e-05})\n",
      "SCORE: 0.43313 at epoch 1000\n",
      "\n",
      "***** (110/162) *****\n",
      "Search({'dropout': 0.15, 'lambda': 5.0, 'lr': 40, 'conv': 40, 'epochs': 1000, 'learning_rate': 0.0001})\n",
      "SCORE: 0.05913 at epoch 997\n",
      "\n",
      "***** (111/162) *****\n",
      "Search({'dropout': 0.15, 'lambda': 5.0, 'lr': 40, 'conv': 40, 'epochs': 1000, 'learning_rate': 1e-06})\n",
      "SCORE: 0.49082 at epoch 999\n",
      "\n",
      "***** (112/162) *****\n",
      "Search({'dropout': 0.15, 'lambda': 5.0, 'lr': 40, 'conv': 20, 'epochs': 1000, 'learning_rate': 1e-05})\n",
      "SCORE: 0.39074 at epoch 996\n",
      "\n",
      "***** (113/162) *****\n",
      "Search({'dropout': 0.15, 'lambda': 5.0, 'lr': 40, 'conv': 20, 'epochs': 1000, 'learning_rate': 0.0001})\n",
      "SCORE: 0.39727 at epoch 904\n",
      "\n",
      "***** (114/162) *****\n",
      "Search({'dropout': 0.15, 'lambda': 5.0, 'lr': 40, 'conv': 20, 'epochs': 1000, 'learning_rate': 1e-06})\n",
      "SCORE: 0.34952 at epoch 999\n",
      "\n",
      "***** (115/162) *****\n",
      "Search({'dropout': 0.15, 'lambda': 5.0, 'lr': 40, 'conv': 30, 'epochs': 1000, 'learning_rate': 1e-05})\n",
      "SCORE: 0.3309 at epoch 997\n",
      "\n",
      "***** (116/162) *****\n",
      "Search({'dropout': 0.15, 'lambda': 5.0, 'lr': 40, 'conv': 30, 'epochs': 1000, 'learning_rate': 0.0001})\n",
      "SCORE: 0.31383 at epoch 814\n",
      "\n",
      "***** (117/162) *****\n",
      "Search({'dropout': 0.15, 'lambda': 5.0, 'lr': 40, 'conv': 30, 'epochs': 1000, 'learning_rate': 1e-06})\n",
      "SCORE: 0.36507 at epoch 1000\n",
      "\n",
      "***** (118/162) *****\n",
      "Search({'dropout': 0.15, 'lambda': 5.0, 'lr': 20, 'conv': 40, 'epochs': 1000, 'learning_rate': 1e-05})\n",
      "SCORE: 0.33698 at epoch 968\n",
      "\n",
      "***** (119/162) *****\n",
      "Search({'dropout': 0.15, 'lambda': 5.0, 'lr': 20, 'conv': 40, 'epochs': 1000, 'learning_rate': 0.0001})\n",
      "SCORE: 0.38127 at epoch 943\n",
      "\n",
      "***** (120/162) *****\n",
      "Search({'dropout': 0.15, 'lambda': 5.0, 'lr': 20, 'conv': 40, 'epochs': 1000, 'learning_rate': 1e-06})\n",
      "SCORE: 0.44523 at epoch 1000\n",
      "\n",
      "***** (121/162) *****\n",
      "Search({'dropout': 0.15, 'lambda': 5.0, 'lr': 20, 'conv': 20, 'epochs': 1000, 'learning_rate': 1e-05})\n",
      "SCORE: 0.17251 at epoch 991\n",
      "\n",
      "***** (122/162) *****\n",
      "Search({'dropout': 0.15, 'lambda': 5.0, 'lr': 20, 'conv': 20, 'epochs': 1000, 'learning_rate': 0.0001})\n",
      "SCORE: 0.38234 at epoch 972\n",
      "\n",
      "***** (123/162) *****\n",
      "Search({'dropout': 0.15, 'lambda': 5.0, 'lr': 20, 'conv': 20, 'epochs': 1000, 'learning_rate': 1e-06})\n",
      "SCORE: 0.47752 at epoch 824\n",
      "\n",
      "***** (124/162) *****\n",
      "Search({'dropout': 0.15, 'lambda': 5.0, 'lr': 20, 'conv': 30, 'epochs': 1000, 'learning_rate': 1e-05})\n",
      "SCORE: 0.40502 at epoch 865\n",
      "\n",
      "***** (125/162) *****\n",
      "Search({'dropout': 0.15, 'lambda': 5.0, 'lr': 20, 'conv': 30, 'epochs': 1000, 'learning_rate': 0.0001})\n",
      "SCORE: 0.12827 at epoch 970\n",
      "\n",
      "***** (126/162) *****\n",
      "Search({'dropout': 0.15, 'lambda': 5.0, 'lr': 20, 'conv': 30, 'epochs': 1000, 'learning_rate': 1e-06})\n",
      "SCORE: 0.41162 at epoch 774\n",
      "\n",
      "***** (127/162) *****\n",
      "Search({'dropout': 0.15, 'lambda': 5.0, 'lr': 30, 'conv': 40, 'epochs': 1000, 'learning_rate': 1e-05})\n",
      "SCORE: 0.35194 at epoch 990\n",
      "\n",
      "***** (128/162) *****\n",
      "Search({'dropout': 0.15, 'lambda': 5.0, 'lr': 30, 'conv': 40, 'epochs': 1000, 'learning_rate': 0.0001})\n",
      "SCORE: 0.20036 at epoch 997\n",
      "\n",
      "***** (129/162) *****\n",
      "Search({'dropout': 0.15, 'lambda': 5.0, 'lr': 30, 'conv': 40, 'epochs': 1000, 'learning_rate': 1e-06})\n",
      "SCORE: 0.37934 at epoch 459\n",
      "\n",
      "***** (130/162) *****\n",
      "Search({'dropout': 0.15, 'lambda': 5.0, 'lr': 30, 'conv': 20, 'epochs': 1000, 'learning_rate': 1e-05})\n",
      "SCORE: 0.34927 at epoch 45\n",
      "\n",
      "***** (131/162) *****\n",
      "Search({'dropout': 0.15, 'lambda': 5.0, 'lr': 30, 'conv': 20, 'epochs': 1000, 'learning_rate': 0.0001})\n",
      "SCORE: 0.20317 at epoch 860\n",
      "\n",
      "***** (132/162) *****\n",
      "Search({'dropout': 0.15, 'lambda': 5.0, 'lr': 30, 'conv': 20, 'epochs': 1000, 'learning_rate': 1e-06})\n",
      "SCORE: 0.53966 at epoch 656\n",
      "\n",
      "***** (133/162) *****\n",
      "Search({'dropout': 0.15, 'lambda': 5.0, 'lr': 30, 'conv': 30, 'epochs': 1000, 'learning_rate': 1e-05})\n",
      "SCORE: 0.25116 at epoch 968\n",
      "\n",
      "***** (134/162) *****\n",
      "Search({'dropout': 0.15, 'lambda': 5.0, 'lr': 30, 'conv': 30, 'epochs': 1000, 'learning_rate': 0.0001})\n",
      "SCORE: 0.2388 at epoch 938\n",
      "\n",
      "***** (135/162) *****\n",
      "Search({'dropout': 0.15, 'lambda': 5.0, 'lr': 30, 'conv': 30, 'epochs': 1000, 'learning_rate': 1e-06})\n",
      "SCORE: 0.37933 at epoch 564\n",
      "\n",
      "***** (136/162) *****\n",
      "Search({'dropout': 0.15, 'lambda': 15.0, 'lr': 40, 'conv': 40, 'epochs': 1000, 'learning_rate': 1e-05})\n",
      "SCORE: 0.26256 at epoch 586\n",
      "\n",
      "***** (137/162) *****\n",
      "Search({'dropout': 0.15, 'lambda': 15.0, 'lr': 40, 'conv': 40, 'epochs': 1000, 'learning_rate': 0.0001})\n",
      "SCORE: 0.31997 at epoch 975\n",
      "\n",
      "***** (138/162) *****\n",
      "Search({'dropout': 0.15, 'lambda': 15.0, 'lr': 40, 'conv': 40, 'epochs': 1000, 'learning_rate': 1e-06})\n",
      "SCORE: 0.43982 at epoch 1000\n",
      "\n",
      "***** (139/162) *****\n",
      "Search({'dropout': 0.15, 'lambda': 15.0, 'lr': 40, 'conv': 20, 'epochs': 1000, 'learning_rate': 1e-05})\n",
      "SCORE: 0.6098 at epoch 21\n",
      "\n",
      "***** (140/162) *****\n",
      "Search({'dropout': 0.15, 'lambda': 15.0, 'lr': 40, 'conv': 20, 'epochs': 1000, 'learning_rate': 0.0001})\n",
      "SCORE: 0.29336 at epoch 9\n",
      "\n",
      "***** (141/162) *****\n",
      "Search({'dropout': 0.15, 'lambda': 15.0, 'lr': 40, 'conv': 20, 'epochs': 1000, 'learning_rate': 1e-06})\n",
      "SCORE: 0.48914 at epoch 998\n",
      "\n",
      "***** (142/162) *****\n",
      "Search({'dropout': 0.15, 'lambda': 15.0, 'lr': 40, 'conv': 30, 'epochs': 1000, 'learning_rate': 1e-05})\n",
      "SCORE: 0.36174 at epoch 947\n",
      "\n",
      "***** (143/162) *****\n",
      "Search({'dropout': 0.15, 'lambda': 15.0, 'lr': 40, 'conv': 30, 'epochs': 1000, 'learning_rate': 0.0001})\n",
      "SCORE: 0.32722 at epoch 3\n",
      "\n",
      "***** (144/162) *****\n",
      "Search({'dropout': 0.15, 'lambda': 15.0, 'lr': 40, 'conv': 30, 'epochs': 1000, 'learning_rate': 1e-06})\n",
      "SCORE: 0.40521 at epoch 996\n",
      "\n",
      "***** (145/162) *****\n",
      "Search({'dropout': 0.15, 'lambda': 15.0, 'lr': 20, 'conv': 40, 'epochs': 1000, 'learning_rate': 1e-05})\n",
      "SCORE: 0.39049 at epoch 559\n",
      "\n",
      "***** (146/162) *****\n",
      "Search({'dropout': 0.15, 'lambda': 15.0, 'lr': 20, 'conv': 40, 'epochs': 1000, 'learning_rate': 0.0001})\n",
      "SCORE: 0.29644 at epoch 354\n",
      "\n",
      "***** (147/162) *****\n",
      "Search({'dropout': 0.15, 'lambda': 15.0, 'lr': 20, 'conv': 40, 'epochs': 1000, 'learning_rate': 1e-06})\n",
      "SCORE: 0.37261 at epoch 989\n",
      "\n",
      "***** (148/162) *****\n",
      "Search({'dropout': 0.15, 'lambda': 15.0, 'lr': 20, 'conv': 20, 'epochs': 1000, 'learning_rate': 1e-05})\n",
      "SCORE: 0.38593 at epoch 963\n",
      "\n",
      "***** (149/162) *****\n",
      "Search({'dropout': 0.15, 'lambda': 15.0, 'lr': 20, 'conv': 20, 'epochs': 1000, 'learning_rate': 0.0001})\n",
      "SCORE: 0.49596 at epoch 13\n",
      "\n",
      "***** (150/162) *****\n",
      "Search({'dropout': 0.15, 'lambda': 15.0, 'lr': 20, 'conv': 20, 'epochs': 1000, 'learning_rate': 1e-06})\n",
      "SCORE: 0.30054 at epoch 807\n",
      "\n",
      "***** (151/162) *****\n",
      "Search({'dropout': 0.15, 'lambda': 15.0, 'lr': 20, 'conv': 30, 'epochs': 1000, 'learning_rate': 1e-05})\n",
      "SCORE: 0.38868 at epoch 794\n",
      "\n",
      "***** (152/162) *****\n",
      "Search({'dropout': 0.15, 'lambda': 15.0, 'lr': 20, 'conv': 30, 'epochs': 1000, 'learning_rate': 0.0001})\n",
      "SCORE: 0.31309 at epoch 989\n",
      "\n",
      "***** (153/162) *****\n",
      "Search({'dropout': 0.15, 'lambda': 15.0, 'lr': 20, 'conv': 30, 'epochs': 1000, 'learning_rate': 1e-06})\n",
      "SCORE: 0.43178 at epoch 1000\n",
      "\n",
      "***** (154/162) *****\n",
      "Search({'dropout': 0.15, 'lambda': 15.0, 'lr': 30, 'conv': 40, 'epochs': 1000, 'learning_rate': 1e-05})\n",
      "SCORE: 0.44564 at epoch 509\n",
      "\n",
      "***** (155/162) *****\n",
      "Search({'dropout': 0.15, 'lambda': 15.0, 'lr': 30, 'conv': 40, 'epochs': 1000, 'learning_rate': 0.0001})\n",
      "SCORE: 0.70098 at epoch 142\n",
      "\n",
      "***** (156/162) *****\n",
      "Search({'dropout': 0.15, 'lambda': 15.0, 'lr': 30, 'conv': 40, 'epochs': 1000, 'learning_rate': 1e-06})\n",
      "SCORE: 0.52211 at epoch 996\n",
      "\n",
      "***** (157/162) *****\n",
      "Search({'dropout': 0.15, 'lambda': 15.0, 'lr': 30, 'conv': 20, 'epochs': 1000, 'learning_rate': 1e-05})\n",
      "SCORE: 0.42758 at epoch 968\n",
      "\n",
      "***** (158/162) *****\n",
      "Search({'dropout': 0.15, 'lambda': 15.0, 'lr': 30, 'conv': 20, 'epochs': 1000, 'learning_rate': 0.0001})\n",
      "SCORE: 0.29949 at epoch 886\n",
      "\n",
      "***** (159/162) *****\n",
      "Search({'dropout': 0.15, 'lambda': 15.0, 'lr': 30, 'conv': 20, 'epochs': 1000, 'learning_rate': 1e-06})\n",
      "SCORE: 0.44457 at epoch 340\n",
      "\n",
      "***** (160/162) *****\n",
      "Search({'dropout': 0.15, 'lambda': 15.0, 'lr': 30, 'conv': 30, 'epochs': 1000, 'learning_rate': 1e-05})\n",
      "SCORE: 0.32073 at epoch 984\n",
      "\n",
      "***** (161/162) *****\n",
      "Search({'dropout': 0.15, 'lambda': 15.0, 'lr': 30, 'conv': 30, 'epochs': 1000, 'learning_rate': 0.0001})\n",
      "SCORE: 0.21306 at epoch 3\n",
      "\n",
      "***** (162/162) *****\n",
      "Search({'dropout': 0.15, 'lambda': 15.0, 'lr': 30, 'conv': 30, 'epochs': 1000, 'learning_rate': 1e-06})\n",
      "SCORE: 0.29135 at epoch 895\n"
     ]
    }
   ],
   "source": [
    "params = {'dropout':[0.2, 0.15],\n",
    "         'lambda':[5.0,10.0, 15.0],\n",
    "          'lr':np.arange(20,50,10),\n",
    "          'conv':np.arange(20,50,10),\n",
    "         'epochs':1000,\n",
    "         'learning_rate': [1e-4, 1e-5, 1e-6]}\n",
    "kgs = KerasGridSearch(get_model, params, monitor='val_loss', greater_is_better=False)\n",
    "kgs.search(train_X, train_y, validation_data = (test_X, test_y))"
   ]
  },
  {
   "cell_type": "markdown",
   "metadata": {
    "id": "iXW12R0ZrJ7s"
   },
   "source": [
    "Imprimimos la mejor convinación de hiperpárametros y el mejor score que se obtuvo, es decir la pérdida mínima en el conjunto test, posteriormente guardamos el modelo. "
   ]
  },
  {
   "cell_type": "code",
   "execution_count": 11,
   "metadata": {
    "colab": {
     "base_uri": "https://localhost:8080/"
    },
    "id": "2T74nDhhRgyE",
    "outputId": "d561c095-bd08-485e-a35b-17108a6fccfb"
   },
   "outputs": [
    {
     "data": {
      "text/plain": [
       "{'batch_size': None,\n",
       " 'conv': 40,\n",
       " 'dropout': 0.15,\n",
       " 'epochs': 997,\n",
       " 'lambda': 5.0,\n",
       " 'learning_rate': 0.0001,\n",
       " 'lr': 40,\n",
       " 'steps_per_epoch': 25}"
      ]
     },
     "execution_count": 11,
     "metadata": {
      "tags": []
     },
     "output_type": "execute_result"
    }
   ],
   "source": [
    "kgs.best_params"
   ]
  },
  {
   "cell_type": "code",
   "execution_count": 12,
   "metadata": {
    "colab": {
     "base_uri": "https://localhost:8080/"
    },
    "id": "W4c6QgWWRqTM",
    "outputId": "9131562e-aa4c-4132-fd50-c1900971f239"
   },
   "outputs": [
    {
     "data": {
      "text/plain": [
       "0.05913"
      ]
     },
     "execution_count": 12,
     "metadata": {
      "tags": []
     },
     "output_type": "execute_result"
    }
   ],
   "source": [
    "kgs.best_score"
   ]
  },
  {
   "cell_type": "code",
   "execution_count": 13,
   "metadata": {
    "colab": {
     "base_uri": "https://localhost:8080/"
    },
    "id": "Q-vQbmBQRmQz",
    "outputId": "19e75281-a40b-4946-dfc8-7b4480c83e37"
   },
   "outputs": [
    {
     "data": {
      "text/plain": [
       "<tensorflow.python.keras.engine.sequential.Sequential at 0x7f6484088908>"
      ]
     },
     "execution_count": 13,
     "metadata": {
      "tags": []
     },
     "output_type": "execute_result"
    }
   ],
   "source": [
    "kgs.best_model"
   ]
  },
  {
   "cell_type": "code",
   "execution_count": 14,
   "metadata": {
    "id": "gygf1RcifzNl"
   },
   "outputs": [],
   "source": [
    "model = kgs.best_model\n",
    "model.save('modeloFinal.h5')"
   ]
  },
  {
   "cell_type": "markdown",
   "metadata": {
    "id": "uK9NZ2L58eY-"
   },
   "source": [
    "### Predecimos el test y lo graficamos con respecto al valor real"
   ]
  },
  {
   "cell_type": "code",
   "execution_count": 17,
   "metadata": {
    "colab": {
     "base_uri": "https://localhost:8080/"
    },
    "id": "NBZ9wtFbP2tP",
    "outputId": "25203f4d-9486-42d8-8089-b3ac9a2669d6"
   },
   "outputs": [
    {
     "data": {
      "text/plain": [
       "StandardScaler(copy=True, with_mean=True, with_std=True)"
      ]
     },
     "execution_count": 17,
     "metadata": {
      "tags": []
     },
     "output_type": "execute_result"
    }
   ],
   "source": [
    "values = df.iloc[1082:,1:].values\n",
    "transformer_y = StandardScaler()\n",
    "transformer_y.fit(df.iloc[1082:,-1].values.reshape(-1,1))"
   ]
  },
  {
   "cell_type": "code",
   "execution_count": 18,
   "metadata": {
    "id": "rBq0Gw3k8ZMJ"
   },
   "outputs": [],
   "source": [
    "y_pred=model.predict(test_X)\n",
    "y_pred_inv=transformer_y.inverse_transform(y_pred)# Transformamos a la escala real de los datos"
   ]
  },
  {
   "cell_type": "code",
   "execution_count": 19,
   "metadata": {
    "colab": {
     "base_uri": "https://localhost:8080/",
     "height": 312
    },
    "id": "dC0xuKdI8Zry",
    "outputId": "f82b9cd5-b431-4a12-fcfe-3435060603c1"
   },
   "outputs": [
    {
     "data": {
      "text/plain": [
       "Text(0.5, 0, 'Numero de dias')"
      ]
     },
     "execution_count": 19,
     "metadata": {
      "tags": []
     },
     "output_type": "execute_result"
    },
    {
     "data": {
      "image/png": "[encoded data removed]",
      "text/plain": [
       "<Figure size 432x288 with 1 Axes>"
      ]
     },
     "metadata": {
      "needs_background": "light",
      "tags": []
     },
     "output_type": "display_data"
    }
   ],
   "source": [
    "plt.plot(range(0,len(test_X)),df.iloc[-len(test_X):,-1],color=\"turquoise\",label=\"real\")\n",
    "plt.plot(range(0,len(test_X)),y_pred_inv, color=\"lightcoral\",label=\"predicha\")\n",
    "plt.legend()\n",
    "plt.title(\"Prediccion del conjunto test\")\n",
    "plt.xlabel(\"Numero de dias\")"
   ]
  },
  {
   "cell_type": "markdown",
   "metadata": {
    "id": "VOInpDSj8sGw"
   },
   "source": [
    "### Predecimos el train y lo graficamos con respecto al valor real"
   ]
  },
  {
   "cell_type": "code",
   "execution_count": 20,
   "metadata": {
    "colab": {
     "base_uri": "https://localhost:8080/",
     "height": 312
    },
    "id": "lSg8my4K8oCf",
    "outputId": "a2e608ad-afd6-4d07-b2c1-c795011461d0"
   },
   "outputs": [
    {
     "data": {
      "text/plain": [
       "Text(0.5, 0, 'Numero de dias')"
      ]
     },
     "execution_count": 20,
     "metadata": {
      "tags": []
     },
     "output_type": "execute_result"
    },
    {
     "data": {
      "image/png": "[encoded data removed]",
      "text/plain": [
       "<Figure size 432x288 with 1 Axes>"
      ]
     },
     "metadata": {
      "needs_background": "light",
      "tags": []
     },
     "output_type": "display_data"
    }
   ],
   "source": [
    "y_pred_t=model.predict(train_X)\n",
    "y_pred_inv_t=transformer_y.inverse_transform(y_pred_t)# Transformamos a la escala real de los datos\n",
    "plt.plot(range(0,len(train_X)),df.iloc[1082:1082+len(train_X),-1],color=\"turquoise\",label=\"real\")\n",
    "plt.plot(range(0,len(train_X)),y_pred_inv_t, color=\"lightcoral\",label=\"predicha\")\n",
    "plt.legend()\n",
    "plt.title(\"Prediccion del conjunto train\")\n",
    "plt.xlabel(\"Numero de dias\")"
   ]
  },
  {
   "cell_type": "code",
   "execution_count": 21,
   "metadata": {
    "colab": {
     "base_uri": "https://localhost:8080/",
     "height": 865
    },
    "id": "Raqdoo148Qrm",
    "outputId": "2f0e1a0a-6d72-444b-d487-2a225c860786"
   },
   "outputs": [
    {
     "data": {
      "image/png": "[encoded data removed]",
      "text/plain": [
       "<IPython.core.display.Image object>"
      ]
     },
     "execution_count": 21,
     "metadata": {
      "tags": []
     },
     "output_type": "execute_result"
    }
   ],
   "source": [
    "dot_img_file = 'model_final.png'\n",
    "tf.keras.utils.plot_model(model, to_file=dot_img_file, show_shapes=True)"
   ]
  },
  {
   "cell_type": "code",
   "execution_count": null,
   "metadata": {
    "id": "oh3cdqaZQQit"
   },
   "outputs": [],
   "source": []
  }
 ],
 "metadata": {
  "accelerator": "TPU",
  "colab": {
   "collapsed_sections": [],
   "name": "hyperparameters.ipynb",
   "provenance": []
  },
  "kernelspec": {
   "display_name": "Python 3",
   "language": "python",
   "name": "python3"
  },
  "language_info": {
   "codemirror_mode": {
    "name": "ipython",
    "version": 3
   },
   "file_extension": ".py",
   "mimetype": "text/x-python",
   "name": "python",
   "nbconvert_exporter": "python",
   "pygments_lexer": "ipython3",
   "version": "3.7.3"
  }
 },
 "nbformat": 4,
 "nbformat_minor": 1
}
