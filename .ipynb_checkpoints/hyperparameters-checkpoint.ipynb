{
 "cells": [
  {
   "cell_type": "code",
   "execution_count": 1,
   "metadata": {},
   "outputs": [
    {
     "name": "stdout",
     "output_type": "stream",
     "text": [
      "Couldn't import dot_parser, loading of dot files will not be possible.\n",
      "2.2.0\n"
     ]
    },
    {
     "name": "stderr",
     "output_type": "stream",
     "text": [
      "Using TensorFlow backend.\n"
     ]
    }
   ],
   "source": [
    "import numpy as np\n",
    "import pandas as pd\n",
    "import matplotlib.pyplot as plt\n",
    "import tensorflow as tf\n",
    "from sklearn.preprocessing import MinMaxScaler\n",
    "from sklearn.preprocessing import StandardScaler\n",
    "from keras.models import load_model\n",
    "from numpy import concatenate\n",
    "from pandas import DataFrame\n",
    "from pandas import concat\n",
    "\n",
    "print(tf.__version__)"
   ]
  },
  {
   "cell_type": "code",
   "execution_count": null,
   "metadata": {},
   "outputs": [],
   "source": [
    "#!pip install keras-hypetune\n",
    "from kerashypetune import *"
   ]
  },
  {
   "cell_type": "code",
   "execution_count": null,
   "metadata": {},
   "outputs": [],
   "source": [
    "# convert series to supervised learning\n",
    "def series_to_supervised(data, n_in=1, n_out=1, dropnan=True):\n",
    "    \"\"\"\n",
    "    Frame a time series as a supervised learning dataset.\n",
    "    Arguments:\n",
    "        data: Sequence of observations as a list or NumPy array.\n",
    "        n_in: Number of lag observations as input (X).\n",
    "        n_out: Number of observations as output (y).\n",
    "        dropnan: Boolean whether or not to drop rows with NaN values.\n",
    "    Returns:\n",
    "    Pandas DataFrame of series framed for supervised learning.\n",
    "    \"\"\"\n",
    "    n_vars = 1 if type(data) is list else data.shape[1]\n",
    "    df = DataFrame(data)\n",
    "    cols, names = list(), list()\n",
    "    # input sequence (t-n, ... t-1)\n",
    "    for i in range(n_in, 0, -1):\n",
    "        # shift\n",
    "        # se utiliza para desplazar el índice de DataFrame por un número \n",
    "        # determinado de períodos con una frecuencia de tiempo opcional\n",
    "        cols.append(df.shift(i))\n",
    "        names += [('var%d(t-%d)' % (j+1, i)) for j in range(n_vars)]\n",
    "    # forecast sequence (t, t+1, ... t+n)\n",
    "    for i in range(0, n_out):\n",
    "        cols.append(df.shift(-i))\n",
    "        if i == 0:\n",
    "            names += [('var%d(t)' % (j+1)) for j in range(n_vars)]\n",
    "        else:\n",
    "            names += [('var%d(t+%d)' % (j+1, i)) for j in range(n_vars)]\n",
    "    # put it all together\n",
    "    agg = concat(cols, axis=1)\n",
    "    agg.columns = names\n",
    "    # drop rows with NaN values\n",
    "    if dropnan:\n",
    "        agg.dropna(inplace=True)\n",
    "    return agg"
   ]
  },
  {
   "cell_type": "code",
   "execution_count": null,
   "metadata": {},
   "outputs": [],
   "source": [
    "def get_data(df, ventana):\n",
    "    '''\n",
    "    '''\n",
    "    n_cols = df.shape[1] - 1 # Numero de variables incluyendo la variable objetivo\n",
    "    entrenamiento = 800 #Cuantos dias de entrenamiento (restante sera para el conjunto test)\n",
    "    n_obs = ventana*n_cols\n",
    "    \n",
    "    \n",
    "    values = df.iloc[1082:,1:].values# Desde el primer dia del 2018\n",
    "    transformer = StandardScaler()\n",
    "    transformer.fit(values)\n",
    "\n",
    "    transformer_y = StandardScaler()\n",
    "    transformer_y.fit(df.iloc[1082:,-1].values.reshape(-1,1))\n",
    "\n",
    "    values = transformer.transform(values)\n",
    "    data = series_to_supervised(values, ventana,1 )\n",
    "    \n",
    "    train = data.iloc[:entrenamiento,:]\n",
    "    test = data.iloc[entrenamiento:,:]\n",
    "\n",
    "    train_X, train_y = train.iloc[:, :n_obs].values, train.iloc[:, -1].values\n",
    "    test_X, test_y = test.iloc[:, :n_obs].values, test.iloc[:, -1].values\n",
    "    train_X = train_X.reshape((train_X.shape[0], ventana, n_cols))\n",
    "    test_X = test_X.reshape((test_X.shape[0], ventana, n_cols))\n",
    "    return train_X, train_y, test_X, test_y"
   ]
  },
  {
   "cell_type": "code",
   "execution_count": null,
   "metadata": {},
   "outputs": [],
   "source": [
    "def get_model(params):\n",
    "    '''\n",
    "    params: diccionario con los parámetros a intentar\n",
    "        {'dropout':[params], 'lambda':[lambda], 'epochs':[epochs], 'learning_rate': []]}}\n",
    "    '''\n",
    "    tf.keras.backend.clear_session()\n",
    "\n",
    "    model = tf.keras.models.Sequential([\n",
    "                       tf.keras.layers.Conv1D(filters=32, kernel_size=5,\n",
    "                       strides=1, padding=\"causal\",\n",
    "                       activation=\"relu\",\n",
    "                       input_shape=[train_X.shape[1],train_X.shape[2]]),\n",
    "                       tf.keras.layers.Bidirectional(tf.keras.layers.LSTM(32, return_sequences=True)),\n",
    "                    tf.keras.layers.Bidirectional(tf.keras.layers.LSTM(32)),\n",
    "                    tf.keras.layers.Dense(50,activation=\"relu\"),\n",
    "                    tf.keras.layers.Dropout(params['dropout']),\n",
    "                    tf.keras.layers.Dense(1),\n",
    "                    tf.keras.layers.Lambda(lambda x: x * params['lambda'])])\n",
    "\n",
    "    model.compile(loss=tf.keras.losses.Huber(), optimizer=tf.keras.optimizers.Adam(learning_rate=params['learning_rate']),metrics=[\"mae\"])\n",
    "    return model"
   ]
  },
  {
   "cell_type": "code",
   "execution_count": null,
   "metadata": {},
   "outputs": [],
   "source": [
    "df = pd.read_csv(\"data_sin_tipocambio.csv\")\n",
    "train_X, train_y, test_X, test_y = get_data(df, 3)"
   ]
  },
  {
   "cell_type": "code",
   "execution_count": null,
   "metadata": {},
   "outputs": [],
   "source": [
    "params = {'dropout':[0.2, 0.15, 0.1],\n",
    "         'lambda':[10.0, 15.0, 20.0],\n",
    "         'epochs':[900, 1000, 1100],\n",
    "         'learning_rate': [1e-5, 1e-6, 1e-7]}\n",
    "kgs = KerasGridSearch(get_model, params, monitor='val_loss', greater_is_better=False)\n",
    "kgs.search(train_X, y_train_y, validation_data=(test_X, test_y))"
   ]
  }
 ],
 "metadata": {
  "kernelspec": {
   "display_name": "Python 3",
   "language": "python",
   "name": "python3"
  },
  "language_info": {
   "codemirror_mode": {
    "name": "ipython",
    "version": 3
   },
   "file_extension": ".py",
   "mimetype": "text/x-python",
   "name": "python",
   "nbconvert_exporter": "python",
   "pygments_lexer": "ipython3",
   "version": "3.7.3"
  }
 },
 "nbformat": 4,
 "nbformat_minor": 2
}
