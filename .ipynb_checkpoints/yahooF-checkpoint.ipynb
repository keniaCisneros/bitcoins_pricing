{
 "cells": [
  {
   "cell_type": "code",
   "execution_count": 15,
   "metadata": {},
   "outputs": [],
   "source": [
    "#!pip install yfinance\n",
    "import yfinance as yf\n",
    "import pandas as pd"
   ]
  },
  {
   "cell_type": "code",
   "execution_count": 20,
   "metadata": {},
   "outputs": [
    {
     "data": {
      "text/plain": [
       "(1511, 2)"
      ]
     },
     "execution_count": 20,
     "metadata": {},
     "output_type": "execute_result"
    }
   ],
   "source": [
    "def get_info_var(key, time):\n",
    "    info = yf.Ticker(key)\n",
    "    var = msft.history(period = time)\n",
    "    var = var.reset_index()\n",
    "    var['Date'] = pd.to_datetime(var.Date)\n",
    "    return var.iloc[:,[0,4]]\n",
    "\n",
    "hist = get_info_var('BTC-USD', '6y')\n",
    "hist.shape"
   ]
  },
  {
   "cell_type": "code",
   "execution_count": 21,
   "metadata": {},
   "outputs": [
    {
     "name": "stdout",
     "output_type": "stream",
     "text": [
      "Max date:  2021-01-08 00:00:00 \t Min date: 2015-01-09 00:00:00\n"
     ]
    }
   ],
   "source": [
    "print('Max date: ', hist.Date.max(),'\\t Min date:', hist.Date.min())"
   ]
  },
  {
   "cell_type": "code",
   "execution_count": 22,
   "metadata": {},
   "outputs": [
    {
     "name": "stderr",
     "output_type": "stream",
     "text": [
      "/home/kenia/anaconda3/lib/python3.7/site-packages/ipykernel_launcher.py:6: FutureWarning: Sorting because non-concatenation axis is not aligned. A future version\n",
      "of pandas will change to not sort by default.\n",
      "\n",
      "To accept the future behavior, pass 'sort=False'.\n",
      "\n",
      "To retain the current behavior and silence the warning, pass 'sort=True'.\n",
      "\n",
      "  \n"
     ]
    },
    {
     "data": {
      "text/plain": [
       "2192"
      ]
     },
     "execution_count": 22,
     "metadata": {},
     "output_type": "execute_result"
    }
   ],
   "source": [
    "def completa(df, start, end):\n",
    "    names = list(df.columns)\n",
    "    date = pd.date_range(start = start, end = end).difference(df.iloc[:,0])\n",
    "    new = pd.DataFrame(columns = names)\n",
    "    new['date'] = date\n",
    "    new = pd.concat([df, new]).sort_values('date')\n",
    "    return new\n",
    "\n",
    "falt = completa(hist, '2015-01-09', '2021-01-08')\n",
    "falt.shape[0]"
   ]
  },
  {
   "cell_type": "code",
   "execution_count": null,
   "metadata": {},
   "outputs": [],
   "source": []
  }
 ],
 "metadata": {
  "kernelspec": {
   "display_name": "Python 3",
   "language": "python",
   "name": "python3"
  },
  "language_info": {
   "codemirror_mode": {
    "name": "ipython",
    "version": 3
   },
   "file_extension": ".py",
   "mimetype": "text/x-python",
   "name": "python",
   "nbconvert_exporter": "python",
   "pygments_lexer": "ipython3",
   "version": "3.7.3"
  }
 },
 "nbformat": 4,
 "nbformat_minor": 2
}
