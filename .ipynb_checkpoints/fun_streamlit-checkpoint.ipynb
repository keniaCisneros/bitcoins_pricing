{
 "cells": [
  {
   "cell_type": "markdown",
   "metadata": {},
   "source": [
    "Colocaremos algunas funciones que se utilizarán en la app de streamlit para verificar que funcionen\n",
    "\n",
    "### Riesgo de un solo activo\n",
    "\n",
    "Es posible medir estadı́sticamente el riesgo o la variabilidad tanto de activos únicos como de carteras de\n",
    "activos. Consideramos la desviación estándar, que es una medida absoluta de riesgo.\n",
    "\n",
    "- Desviación estándar: Estadı́stica que se usa para medir la dispersión (variación) de los rendimientos en torno al rendimiento promedio o esperado de un activo."
   ]
  },
  {
   "cell_type": "code",
   "execution_count": null,
   "metadata": {},
   "outputs": [],
   "source": []
  }
 ],
 "metadata": {
  "kernelspec": {
   "display_name": "Python 3",
   "language": "python",
   "name": "python3"
  },
  "language_info": {
   "codemirror_mode": {
    "name": "ipython",
    "version": 3
   },
   "file_extension": ".py",
   "mimetype": "text/x-python",
   "name": "python",
   "nbconvert_exporter": "python",
   "pygments_lexer": "ipython3",
   "version": "3.7.3"
  }
 },
 "nbformat": 4,
 "nbformat_minor": 2
}
