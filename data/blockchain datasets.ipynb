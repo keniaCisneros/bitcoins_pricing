{
 "metadata": {
  "language_info": {
   "codemirror_mode": {
    "name": "ipython",
    "version": 3
   },
   "file_extension": ".py",
   "mimetype": "text/x-python",
   "name": "python",
   "nbconvert_exporter": "python",
   "pygments_lexer": "ipython3",
   "version": "3.8.3-final"
  },
  "orig_nbformat": 2,
  "kernelspec": {
   "name": "python3",
   "display_name": "Python 3",
   "language": "python"
  }
 },
 "nbformat": 4,
 "nbformat_minor": 2,
 "cells": [
  {
   "source": [
    "hay muchas mas variables en la fuente tanto economicas como de Blockchain:\n",
    "\n",
    "https://www.quandl.com/data/BCHAIN-Blockchain"
   ],
   "cell_type": "markdown",
   "metadata": {}
  },
  {
   "cell_type": "code",
   "execution_count": 55,
   "metadata": {},
   "outputs": [
    {
     "output_type": "stream",
     "name": "stdout",
     "text": [
      "Requirement already satisfied: quandl in c:\\programdata\\anaconda3\\lib\\site-packages (3.5.3)\n",
      "Requirement already satisfied: more-itertools in c:\\programdata\\anaconda3\\lib\\site-packages (from quandl) (8.4.0)\n",
      "Requirement already satisfied: six in c:\\programdata\\anaconda3\\lib\\site-packages (from quandl) (1.15.0)\n",
      "Requirement already satisfied: python-dateutil in c:\\programdata\\anaconda3\\lib\\site-packages (from quandl) (2.8.1)\n",
      "Requirement already satisfied: numpy>=1.8 in c:\\programdata\\anaconda3\\lib\\site-packages (from quandl) (1.18.5)\n",
      "Requirement already satisfied: requests>=2.7.0 in c:\\programdata\\anaconda3\\lib\\site-packages (from quandl) (2.24.0)\n",
      "Requirement already satisfied: pandas>=0.14 in c:\\programdata\\anaconda3\\lib\\site-packages (from quandl) (1.0.5)\n",
      "Requirement already satisfied: inflection>=0.3.1 in c:\\programdata\\anaconda3\\lib\\site-packages (from quandl) (0.5.1)\n",
      "Requirement already satisfied: certifi>=2017.4.17 in c:\\programdata\\anaconda3\\lib\\site-packages (from requests>=2.7.0->quandl) (2020.6.20)\n",
      "Requirement already satisfied: idna<3,>=2.5 in c:\\programdata\\anaconda3\\lib\\site-packages (from requests>=2.7.0->quandl) (2.10)\n",
      "Requirement already satisfied: urllib3!=1.25.0,!=1.25.1,<1.26,>=1.21.1 in c:\\programdata\\anaconda3\\lib\\site-packages (from requests>=2.7.0->quandl) (1.25.9)\n",
      "Requirement already satisfied: chardet<4,>=3.0.2 in c:\\programdata\\anaconda3\\lib\\site-packages (from requests>=2.7.0->quandl) (3.0.4)\n",
      "Requirement already satisfied: pytz>=2017.2 in c:\\programdata\\anaconda3\\lib\\site-packages (from pandas>=0.14->quandl) (2020.1)\n"
     ]
    }
   ],
   "source": [
    "!pip install quandl"
   ]
  },
  {
   "cell_type": "code",
   "execution_count": 56,
   "metadata": {},
   "outputs": [],
   "source": [
    "import quandl\n",
    "quandl.ApiConfig.api_key = \"3ijtYGwN36sWrw_6xdMC\"\n",
    "start=\"2015-01-01\"\n",
    "end=\"2021-01-06\""
   ]
  },
  {
   "cell_type": "code",
   "execution_count": 59,
   "metadata": {},
   "outputs": [
    {
     "output_type": "execute_result",
     "data": {
      "text/plain": [
       "                  Value\n",
       "Date                   \n",
       "2015-01-01  13674725.00\n",
       "2015-01-02  13678725.00\n",
       "2015-01-03  13682825.00\n",
       "2015-01-04  13686975.00\n",
       "2015-01-05  13691175.00\n",
       "...                 ...\n",
       "2021-01-02  18587687.50\n",
       "2021-01-03  18588793.75\n",
       "2021-01-04  18589668.75\n",
       "2021-01-05  18590781.25\n",
       "2021-01-06  18591875.00\n",
       "\n",
       "[2197 rows x 1 columns]"
      ],
      "text/html": "<div>\n<style scoped>\n    .dataframe tbody tr th:only-of-type {\n        vertical-align: middle;\n    }\n\n    .dataframe tbody tr th {\n        vertical-align: top;\n    }\n\n    .dataframe thead th {\n        text-align: right;\n    }\n</style>\n<table border=\"1\" class=\"dataframe\">\n  <thead>\n    <tr style=\"text-align: right;\">\n      <th></th>\n      <th>Value</th>\n    </tr>\n    <tr>\n      <th>Date</th>\n      <th></th>\n    </tr>\n  </thead>\n  <tbody>\n    <tr>\n      <th>2015-01-01</th>\n      <td>13674725.00</td>\n    </tr>\n    <tr>\n      <th>2015-01-02</th>\n      <td>13678725.00</td>\n    </tr>\n    <tr>\n      <th>2015-01-03</th>\n      <td>13682825.00</td>\n    </tr>\n    <tr>\n      <th>2015-01-04</th>\n      <td>13686975.00</td>\n    </tr>\n    <tr>\n      <th>2015-01-05</th>\n      <td>13691175.00</td>\n    </tr>\n    <tr>\n      <th>...</th>\n      <td>...</td>\n    </tr>\n    <tr>\n      <th>2021-01-02</th>\n      <td>18587687.50</td>\n    </tr>\n    <tr>\n      <th>2021-01-03</th>\n      <td>18588793.75</td>\n    </tr>\n    <tr>\n      <th>2021-01-04</th>\n      <td>18589668.75</td>\n    </tr>\n    <tr>\n      <th>2021-01-05</th>\n      <td>18590781.25</td>\n    </tr>\n    <tr>\n      <th>2021-01-06</th>\n      <td>18591875.00</td>\n    </tr>\n  </tbody>\n</table>\n<p>2197 rows × 1 columns</p>\n</div>"
     },
     "metadata": {},
     "execution_count": 59
    }
   ],
   "source": [
    "#Total Bitcoins\n",
    "quandl.get(\"BCHAIN/TOTBC\", start_date=start,end_date=end)"
   ]
  },
  {
   "cell_type": "code",
   "execution_count": 60,
   "metadata": {},
   "outputs": [
    {
     "output_type": "execute_result",
     "data": {
      "text/plain": [
       "               Value\n",
       "Date                \n",
       "2015-01-01    315.70\n",
       "2015-01-02    316.15\n",
       "2015-01-03    302.33\n",
       "2015-01-04    270.93\n",
       "2015-01-05    276.80\n",
       "...              ...\n",
       "2021-01-02  28982.56\n",
       "2021-01-03  29393.75\n",
       "2021-01-04  32195.46\n",
       "2021-01-05  33000.78\n",
       "2021-01-06  32035.03\n",
       "\n",
       "[2198 rows x 1 columns]"
      ],
      "text/html": "<div>\n<style scoped>\n    .dataframe tbody tr th:only-of-type {\n        vertical-align: middle;\n    }\n\n    .dataframe tbody tr th {\n        vertical-align: top;\n    }\n\n    .dataframe thead th {\n        text-align: right;\n    }\n</style>\n<table border=\"1\" class=\"dataframe\">\n  <thead>\n    <tr style=\"text-align: right;\">\n      <th></th>\n      <th>Value</th>\n    </tr>\n    <tr>\n      <th>Date</th>\n      <th></th>\n    </tr>\n  </thead>\n  <tbody>\n    <tr>\n      <th>2015-01-01</th>\n      <td>315.70</td>\n    </tr>\n    <tr>\n      <th>2015-01-02</th>\n      <td>316.15</td>\n    </tr>\n    <tr>\n      <th>2015-01-03</th>\n      <td>302.33</td>\n    </tr>\n    <tr>\n      <th>2015-01-04</th>\n      <td>270.93</td>\n    </tr>\n    <tr>\n      <th>2015-01-05</th>\n      <td>276.80</td>\n    </tr>\n    <tr>\n      <th>...</th>\n      <td>...</td>\n    </tr>\n    <tr>\n      <th>2021-01-02</th>\n      <td>28982.56</td>\n    </tr>\n    <tr>\n      <th>2021-01-03</th>\n      <td>29393.75</td>\n    </tr>\n    <tr>\n      <th>2021-01-04</th>\n      <td>32195.46</td>\n    </tr>\n    <tr>\n      <th>2021-01-05</th>\n      <td>33000.78</td>\n    </tr>\n    <tr>\n      <th>2021-01-06</th>\n      <td>32035.03</td>\n    </tr>\n  </tbody>\n</table>\n<p>2198 rows × 1 columns</p>\n</div>"
     },
     "metadata": {},
     "execution_count": 60
    }
   ],
   "source": [
    "#Bitcoin Market Price USD\n",
    "quandl.get(\"BCHAIN/MKPRU\", start_date=start,end_date=end)"
   ]
  },
  {
   "cell_type": "code",
   "execution_count": 62,
   "metadata": {},
   "outputs": [
    {
     "output_type": "execute_result",
     "data": {
      "text/plain": [
       "                   Value\n",
       "Date                    \n",
       "2015-01-01  4.064096e+10\n",
       "2015-01-02  4.064096e+10\n",
       "2015-01-03  4.064096e+10\n",
       "2015-01-04  4.064096e+10\n",
       "2015-01-05  4.064096e+10\n",
       "...                  ...\n",
       "2021-01-02  1.859959e+13\n",
       "2021-01-03  1.859959e+13\n",
       "2021-01-04  1.859959e+13\n",
       "2021-01-05  1.859959e+13\n",
       "2021-01-06  1.859959e+13\n",
       "\n",
       "[2198 rows x 1 columns]"
      ],
      "text/html": "<div>\n<style scoped>\n    .dataframe tbody tr th:only-of-type {\n        vertical-align: middle;\n    }\n\n    .dataframe tbody tr th {\n        vertical-align: top;\n    }\n\n    .dataframe thead th {\n        text-align: right;\n    }\n</style>\n<table border=\"1\" class=\"dataframe\">\n  <thead>\n    <tr style=\"text-align: right;\">\n      <th></th>\n      <th>Value</th>\n    </tr>\n    <tr>\n      <th>Date</th>\n      <th></th>\n    </tr>\n  </thead>\n  <tbody>\n    <tr>\n      <th>2015-01-01</th>\n      <td>4.064096e+10</td>\n    </tr>\n    <tr>\n      <th>2015-01-02</th>\n      <td>4.064096e+10</td>\n    </tr>\n    <tr>\n      <th>2015-01-03</th>\n      <td>4.064096e+10</td>\n    </tr>\n    <tr>\n      <th>2015-01-04</th>\n      <td>4.064096e+10</td>\n    </tr>\n    <tr>\n      <th>2015-01-05</th>\n      <td>4.064096e+10</td>\n    </tr>\n    <tr>\n      <th>...</th>\n      <td>...</td>\n    </tr>\n    <tr>\n      <th>2021-01-02</th>\n      <td>1.859959e+13</td>\n    </tr>\n    <tr>\n      <th>2021-01-03</th>\n      <td>1.859959e+13</td>\n    </tr>\n    <tr>\n      <th>2021-01-04</th>\n      <td>1.859959e+13</td>\n    </tr>\n    <tr>\n      <th>2021-01-05</th>\n      <td>1.859959e+13</td>\n    </tr>\n    <tr>\n      <th>2021-01-06</th>\n      <td>1.859959e+13</td>\n    </tr>\n  </tbody>\n</table>\n<p>2198 rows × 1 columns</p>\n</div>"
     },
     "metadata": {},
     "execution_count": 62
    }
   ],
   "source": [
    "#Bitcoin Difficulty\n",
    "quandl.get(\"BCHAIN/DIFF\", start_date=start,end_date=end)"
   ]
  },
  {
   "cell_type": "code",
   "execution_count": 63,
   "metadata": {},
   "outputs": [
    {
     "output_type": "execute_result",
     "data": {
      "text/plain": [
       "               Value\n",
       "Date                \n",
       "2015-01-01  0.176213\n",
       "2015-01-02  0.240704\n",
       "2015-01-03  0.275661\n",
       "2015-01-04  0.282322\n",
       "2015-01-05  0.305495\n",
       "...              ...\n",
       "2021-01-02  1.352233\n",
       "2021-01-03  1.395637\n",
       "2021-01-04  1.288694\n",
       "2021-01-05  1.318806\n",
       "2021-01-06  1.292713\n",
       "\n",
       "[2198 rows x 1 columns]"
      ],
      "text/html": "<div>\n<style scoped>\n    .dataframe tbody tr th:only-of-type {\n        vertical-align: middle;\n    }\n\n    .dataframe tbody tr th {\n        vertical-align: top;\n    }\n\n    .dataframe thead th {\n        text-align: right;\n    }\n</style>\n<table border=\"1\" class=\"dataframe\">\n  <thead>\n    <tr style=\"text-align: right;\">\n      <th></th>\n      <th>Value</th>\n    </tr>\n    <tr>\n      <th>Date</th>\n      <th></th>\n    </tr>\n  </thead>\n  <tbody>\n    <tr>\n      <th>2015-01-01</th>\n      <td>0.176213</td>\n    </tr>\n    <tr>\n      <th>2015-01-02</th>\n      <td>0.240704</td>\n    </tr>\n    <tr>\n      <th>2015-01-03</th>\n      <td>0.275661</td>\n    </tr>\n    <tr>\n      <th>2015-01-04</th>\n      <td>0.282322</td>\n    </tr>\n    <tr>\n      <th>2015-01-05</th>\n      <td>0.305495</td>\n    </tr>\n    <tr>\n      <th>...</th>\n      <td>...</td>\n    </tr>\n    <tr>\n      <th>2021-01-02</th>\n      <td>1.352233</td>\n    </tr>\n    <tr>\n      <th>2021-01-03</th>\n      <td>1.395637</td>\n    </tr>\n    <tr>\n      <th>2021-01-04</th>\n      <td>1.288694</td>\n    </tr>\n    <tr>\n      <th>2021-01-05</th>\n      <td>1.318806</td>\n    </tr>\n    <tr>\n      <th>2021-01-06</th>\n      <td>1.292713</td>\n    </tr>\n  </tbody>\n</table>\n<p>2198 rows × 1 columns</p>\n</div>"
     },
     "metadata": {},
     "execution_count": 63
    }
   ],
   "source": [
    "#Bitcoin Average Block Size\n",
    "quandl.get(\"BCHAIN/AVBLS\", start_date=start,end_date=end)"
   ]
  },
  {
   "cell_type": "code",
   "execution_count": 64,
   "metadata": {},
   "outputs": [
    {
     "output_type": "execute_result",
     "data": {
      "text/plain": [
       "                   Value\n",
       "Date                    \n",
       "2015-01-01  1.312681e+06\n",
       "2015-01-02  1.267762e+06\n",
       "2015-01-03  1.242879e+06\n",
       "2015-01-04  1.129778e+06\n",
       "2015-01-05  1.166989e+06\n",
       "...                  ...\n",
       "2021-01-02  2.906805e+07\n",
       "2021-01-03  3.190850e+07\n",
       "2021-01-04  3.592236e+07\n",
       "2021-01-05  3.975281e+07\n",
       "2021-01-06  3.531478e+07\n",
       "\n",
       "[2198 rows x 1 columns]"
      ],
      "text/html": "<div>\n<style scoped>\n    .dataframe tbody tr th:only-of-type {\n        vertical-align: middle;\n    }\n\n    .dataframe tbody tr th {\n        vertical-align: top;\n    }\n\n    .dataframe thead th {\n        text-align: right;\n    }\n</style>\n<table border=\"1\" class=\"dataframe\">\n  <thead>\n    <tr style=\"text-align: right;\">\n      <th></th>\n      <th>Value</th>\n    </tr>\n    <tr>\n      <th>Date</th>\n      <th></th>\n    </tr>\n  </thead>\n  <tbody>\n    <tr>\n      <th>2015-01-01</th>\n      <td>1.312681e+06</td>\n    </tr>\n    <tr>\n      <th>2015-01-02</th>\n      <td>1.267762e+06</td>\n    </tr>\n    <tr>\n      <th>2015-01-03</th>\n      <td>1.242879e+06</td>\n    </tr>\n    <tr>\n      <th>2015-01-04</th>\n      <td>1.129778e+06</td>\n    </tr>\n    <tr>\n      <th>2015-01-05</th>\n      <td>1.166989e+06</td>\n    </tr>\n    <tr>\n      <th>...</th>\n      <td>...</td>\n    </tr>\n    <tr>\n      <th>2021-01-02</th>\n      <td>2.906805e+07</td>\n    </tr>\n    <tr>\n      <th>2021-01-03</th>\n      <td>3.190850e+07</td>\n    </tr>\n    <tr>\n      <th>2021-01-04</th>\n      <td>3.592236e+07</td>\n    </tr>\n    <tr>\n      <th>2021-01-05</th>\n      <td>3.975281e+07</td>\n    </tr>\n    <tr>\n      <th>2021-01-06</th>\n      <td>3.531478e+07</td>\n    </tr>\n  </tbody>\n</table>\n<p>2198 rows × 1 columns</p>\n</div>"
     },
     "metadata": {},
     "execution_count": 64
    }
   ],
   "source": [
    "#Bitcoin Miners Revenue\n",
    "quandl.get(\"BCHAIN/MIREV\", start_date=start,end_date=end)"
   ]
  },
  {
   "cell_type": "code",
   "execution_count": 65,
   "metadata": {},
   "outputs": [
    {
     "output_type": "execute_result",
     "data": {
      "text/plain": [
       "                   Value\n",
       "Date                    \n",
       "2015-01-01  3.353653e+05\n",
       "2015-01-02  3.232437e+05\n",
       "2015-01-03  3.313247e+05\n",
       "2015-01-04  3.353653e+05\n",
       "2015-01-05  3.394058e+05\n",
       "...                  ...\n",
       "2021-01-02  1.377640e+08\n",
       "2021-01-03  1.396132e+08\n",
       "2021-01-04  1.460853e+08\n",
       "2021-01-05  1.599542e+08\n",
       "2021-01-06  1.451608e+08\n",
       "\n",
       "[2198 rows x 1 columns]"
      ],
      "text/html": "<div>\n<style scoped>\n    .dataframe tbody tr th:only-of-type {\n        vertical-align: middle;\n    }\n\n    .dataframe tbody tr th {\n        vertical-align: top;\n    }\n\n    .dataframe thead th {\n        text-align: right;\n    }\n</style>\n<table border=\"1\" class=\"dataframe\">\n  <thead>\n    <tr style=\"text-align: right;\">\n      <th></th>\n      <th>Value</th>\n    </tr>\n    <tr>\n      <th>Date</th>\n      <th></th>\n    </tr>\n  </thead>\n  <tbody>\n    <tr>\n      <th>2015-01-01</th>\n      <td>3.353653e+05</td>\n    </tr>\n    <tr>\n      <th>2015-01-02</th>\n      <td>3.232437e+05</td>\n    </tr>\n    <tr>\n      <th>2015-01-03</th>\n      <td>3.313247e+05</td>\n    </tr>\n    <tr>\n      <th>2015-01-04</th>\n      <td>3.353653e+05</td>\n    </tr>\n    <tr>\n      <th>2015-01-05</th>\n      <td>3.394058e+05</td>\n    </tr>\n    <tr>\n      <th>...</th>\n      <td>...</td>\n    </tr>\n    <tr>\n      <th>2021-01-02</th>\n      <td>1.377640e+08</td>\n    </tr>\n    <tr>\n      <th>2021-01-03</th>\n      <td>1.396132e+08</td>\n    </tr>\n    <tr>\n      <th>2021-01-04</th>\n      <td>1.460853e+08</td>\n    </tr>\n    <tr>\n      <th>2021-01-05</th>\n      <td>1.599542e+08</td>\n    </tr>\n    <tr>\n      <th>2021-01-06</th>\n      <td>1.451608e+08</td>\n    </tr>\n  </tbody>\n</table>\n<p>2198 rows × 1 columns</p>\n</div>"
     },
     "metadata": {},
     "execution_count": 65
    }
   ],
   "source": [
    "#Bitcoin Hash Rate\n",
    "quandl.get(\"BCHAIN/HRATE\", start_date=start,end_date=end)"
   ]
  },
  {
   "cell_type": "code",
   "execution_count": 66,
   "metadata": {},
   "outputs": [
    {
     "output_type": "execute_result",
     "data": {
      "text/plain": [
       "               Value\n",
       "Date                \n",
       "2015-01-01  5.244721\n",
       "2015-01-02  4.477312\n",
       "2015-01-03  2.277049\n",
       "2015-01-04  1.376066\n",
       "2015-01-05  1.863192\n",
       "...              ...\n",
       "2021-01-02  0.669276\n",
       "2021-01-03  0.518649\n",
       "2021-01-04  0.614294\n",
       "2021-01-05  0.529815\n",
       "2021-01-06  0.521220\n",
       "\n",
       "[2198 rows x 1 columns]"
      ],
      "text/html": "<div>\n<style scoped>\n    .dataframe tbody tr th:only-of-type {\n        vertical-align: middle;\n    }\n\n    .dataframe tbody tr th {\n        vertical-align: top;\n    }\n\n    .dataframe thead th {\n        text-align: right;\n    }\n</style>\n<table border=\"1\" class=\"dataframe\">\n  <thead>\n    <tr style=\"text-align: right;\">\n      <th></th>\n      <th>Value</th>\n    </tr>\n    <tr>\n      <th>Date</th>\n      <th></th>\n    </tr>\n  </thead>\n  <tbody>\n    <tr>\n      <th>2015-01-01</th>\n      <td>5.244721</td>\n    </tr>\n    <tr>\n      <th>2015-01-02</th>\n      <td>4.477312</td>\n    </tr>\n    <tr>\n      <th>2015-01-03</th>\n      <td>2.277049</td>\n    </tr>\n    <tr>\n      <th>2015-01-04</th>\n      <td>1.376066</td>\n    </tr>\n    <tr>\n      <th>2015-01-05</th>\n      <td>1.863192</td>\n    </tr>\n    <tr>\n      <th>...</th>\n      <td>...</td>\n    </tr>\n    <tr>\n      <th>2021-01-02</th>\n      <td>0.669276</td>\n    </tr>\n    <tr>\n      <th>2021-01-03</th>\n      <td>0.518649</td>\n    </tr>\n    <tr>\n      <th>2021-01-04</th>\n      <td>0.614294</td>\n    </tr>\n    <tr>\n      <th>2021-01-05</th>\n      <td>0.529815</td>\n    </tr>\n    <tr>\n      <th>2021-01-06</th>\n      <td>0.521220</td>\n    </tr>\n  </tbody>\n</table>\n<p>2198 rows × 1 columns</p>\n</div>"
     },
     "metadata": {},
     "execution_count": 66
    }
   ],
   "source": [
    "#Bitcoin Cost % of Transaction Volume\n",
    "quandl.get(\"BCHAIN/CPTRV\", start_date=start,end_date=end)"
   ]
  },
  {
   "cell_type": "code",
   "execution_count": 67,
   "metadata": {},
   "outputs": [
    {
     "output_type": "execute_result",
     "data": {
      "text/plain": [
       "                  Value\n",
       "Date                   \n",
       "2015-01-01   555.000000\n",
       "2015-01-02   627.000000\n",
       "2015-01-03   734.000000\n",
       "2015-01-04   692.000000\n",
       "2015-01-05   751.000000\n",
       "...                 ...\n",
       "2021-01-02  1732.080537\n",
       "2021-01-03  1967.622517\n",
       "2021-01-04  2272.886076\n",
       "2021-01-05  2160.312139\n",
       "2021-01-06  2255.356688\n",
       "\n",
       "[2198 rows x 1 columns]"
      ],
      "text/html": "<div>\n<style scoped>\n    .dataframe tbody tr th:only-of-type {\n        vertical-align: middle;\n    }\n\n    .dataframe tbody tr th {\n        vertical-align: top;\n    }\n\n    .dataframe thead th {\n        text-align: right;\n    }\n</style>\n<table border=\"1\" class=\"dataframe\">\n  <thead>\n    <tr style=\"text-align: right;\">\n      <th></th>\n      <th>Value</th>\n    </tr>\n    <tr>\n      <th>Date</th>\n      <th></th>\n    </tr>\n  </thead>\n  <tbody>\n    <tr>\n      <th>2015-01-01</th>\n      <td>555.000000</td>\n    </tr>\n    <tr>\n      <th>2015-01-02</th>\n      <td>627.000000</td>\n    </tr>\n    <tr>\n      <th>2015-01-03</th>\n      <td>734.000000</td>\n    </tr>\n    <tr>\n      <th>2015-01-04</th>\n      <td>692.000000</td>\n    </tr>\n    <tr>\n      <th>2015-01-05</th>\n      <td>751.000000</td>\n    </tr>\n    <tr>\n      <th>...</th>\n      <td>...</td>\n    </tr>\n    <tr>\n      <th>2021-01-02</th>\n      <td>1732.080537</td>\n    </tr>\n    <tr>\n      <th>2021-01-03</th>\n      <td>1967.622517</td>\n    </tr>\n    <tr>\n      <th>2021-01-04</th>\n      <td>2272.886076</td>\n    </tr>\n    <tr>\n      <th>2021-01-05</th>\n      <td>2160.312139</td>\n    </tr>\n    <tr>\n      <th>2021-01-06</th>\n      <td>2255.356688</td>\n    </tr>\n  </tbody>\n</table>\n<p>2198 rows × 1 columns</p>\n</div>"
     },
     "metadata": {},
     "execution_count": 67
    }
   ],
   "source": [
    "#Bitcoin Number of Transaction per Block\n",
    "quandl.get(\"BCHAIN/NTRBL\", start_date=start,end_date=end)"
   ]
  },
  {
   "cell_type": "code",
   "execution_count": 68,
   "metadata": {},
   "outputs": [
    {
     "output_type": "execute_result",
     "data": {
      "text/plain": [
       "                Value\n",
       "Date                 \n",
       "2015-01-01   7.150000\n",
       "2015-01-02   6.933333\n",
       "2015-01-03   6.433333\n",
       "2015-01-04   8.033333\n",
       "2015-01-05   6.816667\n",
       "...               ...\n",
       "2018-08-03  12.950000\n",
       "2018-08-04   7.866667\n",
       "2018-08-05   6.050000\n",
       "2018-08-06   9.825000\n",
       "2018-08-07  14.450000\n",
       "\n",
       "[1315 rows x 1 columns]"
      ],
      "text/html": "<div>\n<style scoped>\n    .dataframe tbody tr th:only-of-type {\n        vertical-align: middle;\n    }\n\n    .dataframe tbody tr th {\n        vertical-align: top;\n    }\n\n    .dataframe thead th {\n        text-align: right;\n    }\n</style>\n<table border=\"1\" class=\"dataframe\">\n  <thead>\n    <tr style=\"text-align: right;\">\n      <th></th>\n      <th>Value</th>\n    </tr>\n    <tr>\n      <th>Date</th>\n      <th></th>\n    </tr>\n  </thead>\n  <tbody>\n    <tr>\n      <th>2015-01-01</th>\n      <td>7.150000</td>\n    </tr>\n    <tr>\n      <th>2015-01-02</th>\n      <td>6.933333</td>\n    </tr>\n    <tr>\n      <th>2015-01-03</th>\n      <td>6.433333</td>\n    </tr>\n    <tr>\n      <th>2015-01-04</th>\n      <td>8.033333</td>\n    </tr>\n    <tr>\n      <th>2015-01-05</th>\n      <td>6.816667</td>\n    </tr>\n    <tr>\n      <th>...</th>\n      <td>...</td>\n    </tr>\n    <tr>\n      <th>2018-08-03</th>\n      <td>12.950000</td>\n    </tr>\n    <tr>\n      <th>2018-08-04</th>\n      <td>7.866667</td>\n    </tr>\n    <tr>\n      <th>2018-08-05</th>\n      <td>6.050000</td>\n    </tr>\n    <tr>\n      <th>2018-08-06</th>\n      <td>9.825000</td>\n    </tr>\n    <tr>\n      <th>2018-08-07</th>\n      <td>14.450000</td>\n    </tr>\n  </tbody>\n</table>\n<p>1315 rows × 1 columns</p>\n</div>"
     },
     "metadata": {},
     "execution_count": 68
    }
   ],
   "source": [
    "#Bitcoin Median Transaction Confirmation Time\n",
    "quandl.get(\"BCHAIN/ATRCT\", start_date=start,end_date=end)"
   ]
  },
  {
   "cell_type": "code",
   "execution_count": 69,
   "metadata": {},
   "outputs": [
    {
     "output_type": "execute_result",
     "data": {
      "text/plain": [
       "               Value\n",
       "Date                \n",
       "2015-01-01  -59682.0\n",
       "2015-01-02  -59563.0\n",
       "2015-01-03  -62279.0\n",
       "2015-01-04  -69360.0\n",
       "2015-01-05  -67956.0\n",
       "...              ...\n",
       "2016-06-12 -140129.0\n",
       "2016-06-13 -129434.0\n",
       "2016-06-14 -131315.0\n",
       "2016-06-15 -128340.0\n",
       "2016-06-16 -119178.0\n",
       "\n",
       "[533 rows x 1 columns]"
      ],
      "text/html": "<div>\n<style scoped>\n    .dataframe tbody tr th:only-of-type {\n        vertical-align: middle;\n    }\n\n    .dataframe tbody tr th {\n        vertical-align: top;\n    }\n\n    .dataframe thead th {\n        text-align: right;\n    }\n</style>\n<table border=\"1\" class=\"dataframe\">\n  <thead>\n    <tr style=\"text-align: right;\">\n      <th></th>\n      <th>Value</th>\n    </tr>\n    <tr>\n      <th>Date</th>\n      <th></th>\n    </tr>\n  </thead>\n  <tbody>\n    <tr>\n      <th>2015-01-01</th>\n      <td>-59682.0</td>\n    </tr>\n    <tr>\n      <th>2015-01-02</th>\n      <td>-59563.0</td>\n    </tr>\n    <tr>\n      <th>2015-01-03</th>\n      <td>-62279.0</td>\n    </tr>\n    <tr>\n      <th>2015-01-04</th>\n      <td>-69360.0</td>\n    </tr>\n    <tr>\n      <th>2015-01-05</th>\n      <td>-67956.0</td>\n    </tr>\n    <tr>\n      <th>...</th>\n      <td>...</td>\n    </tr>\n    <tr>\n      <th>2016-06-12</th>\n      <td>-140129.0</td>\n    </tr>\n    <tr>\n      <th>2016-06-13</th>\n      <td>-129434.0</td>\n    </tr>\n    <tr>\n      <th>2016-06-14</th>\n      <td>-131315.0</td>\n    </tr>\n    <tr>\n      <th>2016-06-15</th>\n      <td>-128340.0</td>\n    </tr>\n    <tr>\n      <th>2016-06-16</th>\n      <td>-119178.0</td>\n    </tr>\n  </tbody>\n</table>\n<p>533 rows × 1 columns</p>\n</div>"
     },
     "metadata": {},
     "execution_count": 69
    }
   ],
   "source": [
    "#Bitcoin Mining Operating Margin\n",
    "quandl.get(\"BCHAIN/MIOPM\", start_date=start,end_date=end)"
   ]
  },
  {
   "cell_type": "code",
   "execution_count": null,
   "metadata": {},
   "outputs": [],
   "source": []
  }
 ]
}