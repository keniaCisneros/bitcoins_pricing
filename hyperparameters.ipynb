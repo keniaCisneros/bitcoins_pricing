{
  "nbformat": 4,
  "nbformat_minor": 0,
  "metadata": {
    "kernelspec": {
      "display_name": "Python 3",
      "language": "python",
      "name": "python3"
    },
    "language_info": {
      "codemirror_mode": {
        "name": "ipython",
        "version": 3
      },
      "file_extension": ".py",
      "mimetype": "text/x-python",
      "name": "python",
      "nbconvert_exporter": "python",
      "pygments_lexer": "ipython3",
      "version": "3.7.3"
    },
    "colab": {
      "name": "hyperparameters.ipynb",
      "provenance": []
    },
    "accelerator": "TPU"
  },
  "cells": [
    {
      "cell_type": "code",
      "metadata": {
        "colab": {
          "base_uri": "https://localhost:8080/"
        },
        "id": "5Qa9_y5MOplq",
        "outputId": "6f4ce570-a0d4-45d5-c423-2cc86bdc06de"
      },
      "source": [
        "import numpy as np\n",
        "import pandas as pd\n",
        "import matplotlib.pyplot as plt\n",
        "import tensorflow as tf\n",
        "from sklearn.preprocessing import MinMaxScaler\n",
        "from sklearn.preprocessing import StandardScaler\n",
        "from keras.models import load_model\n",
        "from numpy import concatenate\n",
        "from pandas import DataFrame\n",
        "from pandas import concat\n",
        "\n",
        "print(tf.__version__)"
      ],
      "execution_count": 1,
      "outputs": [
        {
          "output_type": "stream",
          "text": [
            "2.4.0\n"
          ],
          "name": "stdout"
        }
      ]
    },
    {
      "cell_type": "code",
      "metadata": {
        "colab": {
          "base_uri": "https://localhost:8080/"
        },
        "id": "8k0HRVEwOpmF",
        "outputId": "d2e00f27-d3f2-47f6-d5da-179a73daa459"
      },
      "source": [
        "!pip install keras-hypetune\n"
      ],
      "execution_count": 2,
      "outputs": [
        {
          "output_type": "stream",
          "text": [
            "Requirement already satisfied: keras-hypetune in /usr/local/lib/python3.6/dist-packages (0.1.1)\n",
            "Requirement already satisfied: numpy in /usr/local/lib/python3.6/dist-packages (from keras-hypetune) (1.19.5)\n"
          ],
          "name": "stdout"
        }
      ]
    },
    {
      "cell_type": "code",
      "metadata": {
        "id": "U5s7hGdxQHDo"
      },
      "source": [
        "from kerashypetune import *"
      ],
      "execution_count": 3,
      "outputs": []
    },
    {
      "cell_type": "code",
      "metadata": {
        "id": "opEstA3IOpmH"
      },
      "source": [
        "# convert series to supervised learning\n",
        "def series_to_supervised(data, n_in=1, n_out=1, dropnan=True):\n",
        "    \"\"\"\n",
        "    Frame a time series as a supervised learning dataset.\n",
        "    Arguments:\n",
        "        data: Sequence of observations as a list or NumPy array.\n",
        "        n_in: Number of lag observations as input (X).\n",
        "        n_out: Number of observations as output (y).\n",
        "        dropnan: Boolean whether or not to drop rows with NaN values.\n",
        "    Returns:\n",
        "    Pandas DataFrame of series framed for supervised learning.\n",
        "    \"\"\"\n",
        "    n_vars = 1 if type(data) is list else data.shape[1]\n",
        "    df = DataFrame(data)\n",
        "    cols, names = list(), list()\n",
        "    # input sequence (t-n, ... t-1)\n",
        "    for i in range(n_in, 0, -1):\n",
        "        # shift\n",
        "        # se utiliza para desplazar el índice de DataFrame por un número \n",
        "        # determinado de períodos con una frecuencia de tiempo opcional\n",
        "        cols.append(df.shift(i))\n",
        "        names += [('var%d(t-%d)' % (j+1, i)) for j in range(n_vars)]\n",
        "    # forecast sequence (t, t+1, ... t+n)\n",
        "    for i in range(0, n_out):\n",
        "        cols.append(df.shift(-i))\n",
        "        if i == 0:\n",
        "            names += [('var%d(t)' % (j+1)) for j in range(n_vars)]\n",
        "        else:\n",
        "            names += [('var%d(t+%d)' % (j+1, i)) for j in range(n_vars)]\n",
        "    # put it all together\n",
        "    agg = concat(cols, axis=1)\n",
        "    agg.columns = names\n",
        "    # drop rows with NaN values\n",
        "    if dropnan:\n",
        "        agg.dropna(inplace=True)\n",
        "    return agg"
      ],
      "execution_count": 4,
      "outputs": []
    },
    {
      "cell_type": "code",
      "metadata": {
        "id": "rN2ELHPUOpmL"
      },
      "source": [
        "def get_data(df, ventana):\n",
        "    '''\n",
        "    '''\n",
        "    n_cols = df.shape[1] - 1 # Numero de variables incluyendo la variable objetivo\n",
        "    entrenamiento = 800 #Cuantos dias de entrenamiento (restante sera para el conjunto test)\n",
        "    n_obs = ventana*n_cols\n",
        "    \n",
        "    \n",
        "    values = df.iloc[1082:,1:].values# Desde el primer dia del 2018\n",
        "    transformer = StandardScaler()\n",
        "    transformer.fit(values)\n",
        "\n",
        "    transformer_y = StandardScaler()\n",
        "    transformer_y.fit(df.iloc[1082:,-1].values.reshape(-1,1))\n",
        "\n",
        "    values = transformer.transform(values)\n",
        "    data = series_to_supervised(values, ventana,1 )\n",
        "    \n",
        "    train = data.iloc[:entrenamiento,:]\n",
        "    test = data.iloc[entrenamiento:,:]\n",
        "\n",
        "    train_X, train_y = train.iloc[:, :n_obs].values, train.iloc[:, -1].values\n",
        "    test_X, test_y = test.iloc[:, :n_obs].values, test.iloc[:, -1].values\n",
        "    train_X = train_X.reshape((train_X.shape[0], ventana, n_cols))\n",
        "    test_X = test_X.reshape((test_X.shape[0], ventana, n_cols))\n",
        "    return train_X, train_y, test_X, test_y"
      ],
      "execution_count": 5,
      "outputs": []
    },
    {
      "cell_type": "code",
      "metadata": {
        "id": "uEwipRdROpmO"
      },
      "source": [
        "def get_model(params):\n",
        "    '''\n",
        "    params: diccionario con los parámetros a intentar\n",
        "        {'dropout':[params], \n",
        "        'lambda':[lambda], \n",
        "        'epochs':[epochs], \n",
        "        'learning_rate': []]\n",
        "    '''\n",
        "    tf.keras.backend.clear_session()\n",
        "\n",
        "    model = tf.keras.models.Sequential([\n",
        "                       tf.keras.layers.Conv1D(filters=params['conv'], kernel_size=5,\n",
        "                       strides=1, padding=\"causal\",\n",
        "                       activation=\"relu\",\n",
        "                       input_shape=[train_X.shape[1],train_X.shape[2]]),\n",
        "                       tf.keras.layers.Bidirectional(tf.keras.layers.LSTM(params['lstm'], return_sequences=True)),\n",
        "                    tf.keras.layers.Bidirectional(tf.keras.layers.LSTM(params['lstm'])),\n",
        "                    tf.keras.layers.Dense(50,activation=\"relu\"),\n",
        "                    tf.keras.layers.Dropout(params['dropout']),\n",
        "                    tf.keras.layers.Dense(1),\n",
        "                    tf.keras.layers.Lambda(lambda x: x * params['lambda'])])\n",
        "\n",
        "    model.compile(loss=tf.keras.losses.Huber(), optimizer=tf.keras.optimizers.Adam(learning_rate=params['learning_rate']),metrics=[\"mae\"])\n",
        "    return model"
      ],
      "execution_count": 6,
      "outputs": []
    },
    {
      "cell_type": "code",
      "metadata": {
        "colab": {
          "base_uri": "https://localhost:8080/"
        },
        "id": "5BcZlUVMOpmP",
        "outputId": "40ff19c9-d234-4470-f7a7-c8758b4e97eb"
      },
      "source": [
        "df = pd.read_csv(\"data_complete.csv\")\n",
        "df.columns"
      ],
      "execution_count": 7,
      "outputs": [
        {
          "output_type": "execute_result",
          "data": {
            "text/plain": [
              "Index(['date', 'dow(USD)', 'euro_stoxx50(USD)', 'nasdaq(USD)', 'nikkei(USD)',\n",
              "       'oro(USD)', 'petroleo(USD)', 'shangai_stock_exchange(USD)',\n",
              "       'sp_500(USD)', 'BCHAIN-TOTBC', 'BCHAIN-AVBLS', 'BCHAIN-MIREV (USD)',\n",
              "       'BCHAIN-HRATE', 'BCHAIN-NTRBL', 'BCHAIN-NADDU', 'eur_usd', 'cny_usd',\n",
              "       'gbp_usd', 'BCHAIN-MKPRU (USD)'],\n",
              "      dtype='object')"
            ]
          },
          "metadata": {
            "tags": []
          },
          "execution_count": 7
        }
      ]
    },
    {
      "cell_type": "code",
      "metadata": {
        "id": "oFfuBvuLc5GG"
      },
      "source": [
        "df.drop(['shangai_stock_exchange(USD)','petroleo(USD)','euro_stoxx50(USD)','dow(USD)'], axis=1, inplace = True)"
      ],
      "execution_count": 8,
      "outputs": []
    },
    {
      "cell_type": "code",
      "metadata": {
        "id": "CASnwp-NcsOS"
      },
      "source": [
        "train_X, train_y, test_X, test_y = get_data(df, 3)"
      ],
      "execution_count": 9,
      "outputs": []
    },
    {
      "cell_type": "code",
      "metadata": {
        "colab": {
          "base_uri": "https://localhost:8080/"
        },
        "id": "E5Z-Tu8TY3tL",
        "outputId": "da09d874-64a6-4528-832c-d421bc5e86e6"
      },
      "source": [
        "params = {'dropout':[0.2, 0.3],\n",
        "         'lambda':[5.0,10.0, 15.0],\n",
        "          'lstm':np.arange(20,50,10),\n",
        "          'conv':np.arange(20,50,10),\n",
        "         'epochs':1000,\n",
        "         'learning_rate': [1e-4, 1e-5, 1e-6]}\n",
        "kgs = KerasGridSearch(get_model, params, monitor='val_loss', greater_is_better=False)\n",
        "kgs.search(train_X, train_y, validation_data = (test_X, test_y))"
      ],
      "execution_count": null,
      "outputs": [
        {
          "output_type": "stream",
          "text": [
            "\n",
            "162 trials detected for ('dropout', 'lambda', 'lr', 'conv', 'epochs', 'learning_rate')\n",
            "\n",
            "***** (1/162) *****\n",
            "Search({'dropout': 0.2, 'lambda': 10.0, 'lr': 40, 'conv': 40, 'epochs': 1000, 'learning_rate': 1e-05})\n",
            "SCORE: 0.42139 at epoch 971\n",
            "\n",
            "***** (2/162) *****\n",
            "Search({'dropout': 0.2, 'lambda': 10.0, 'lr': 40, 'conv': 40, 'epochs': 1000, 'learning_rate': 0.0001})\n"
          ],
          "name": "stdout"
        }
      ]
    },
    {
      "cell_type": "code",
      "metadata": {
        "id": "IAqCIP54QdCK"
      },
      "source": [],
      "execution_count": null,
      "outputs": []
    }
  ]
}